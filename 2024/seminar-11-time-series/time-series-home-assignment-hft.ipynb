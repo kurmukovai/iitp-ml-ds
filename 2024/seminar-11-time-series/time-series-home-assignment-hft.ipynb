{
 "cells": [
  {
   "cell_type": "markdown",
   "metadata": {
    "id": "v2Kvfzmashbr"
   },
   "source": [
    "# Предсказание биржевых временных рядов\n",
    "\n",
    "В этом домашнем задании вам предлагается решить две задачи:\n",
    "1. Построить предсказательную модель для **посуточного** временного ряда стоимости акций одной из компаний из списка [SNP500](https://en.wikipedia.org/wiki/S%26P_500)\n",
    "2. Построить предсказательную модель для стоимости достаточно высокочастотного временного ряда (500 мс) стоимости акции. Для этого задания вам будет предоставлена более богатая информация (топ 5 заявок на покупку и продажу, объем биржевого стакана, и др.)"
   ]
  },
  {
   "cell_type": "code",
   "execution_count": null,
   "metadata": {
    "id": "lpCjJ4dDspFB"
   },
   "outputs": [],
   "source": []
  },
  {
   "cell_type": "markdown",
   "metadata": {
    "id": "BLh29EW8uAkh"
   },
   "source": [
    "# 1. Microsoft daily price\n",
    "\n",
    "Ваша задача построить предсказательную модель для стоимости акций компании Microsoft и оценить ее качество используя различные метрики.\n"
   ]
  },
  {
   "cell_type": "code",
   "execution_count": null,
   "metadata": {
    "executionInfo": {
     "elapsed": 11270,
     "status": "ok",
     "timestamp": 1714597822122,
     "user": {
      "displayName": "Anvar Kurmukov",
      "userId": "12381574800784142893"
     },
     "user_tz": -60
    },
    "id": "l13M1AIiuD2l"
   },
   "outputs": [],
   "source": [
    "import tarfile\n",
    "import pandas as pd\n",
    "\n",
    "all_csvs = dict()\n",
    "# Open the tar.gz file\n",
    "with tarfile.open('snp500.tar.gz', 'r:gz') as tar:\n",
    "    # Iterate over each member file in the tar archive\n",
    "    for member in tar.getmembers():\n",
    "        # Check if the member is a regular file and has a .csv extension\n",
    "        if member.isfile() and member.name.endswith('.csv'):\n",
    "            # Extract the CSV file from the tar archive\n",
    "            csv_file = tar.extractfile(member)\n",
    "\n",
    "            # Create a CSV reader object\n",
    "            df = pd.read_csv(csv_file, delimiter=',')\n",
    "            all_csvs[member.name.split('/')[1].split('.')[0]] = df"
   ]
  },
  {
   "cell_type": "code",
   "execution_count": null,
   "metadata": {
    "colab": {
     "base_uri": "https://localhost:8080/",
     "height": 206
    },
    "executionInfo": {
     "elapsed": 9,
     "status": "ok",
     "timestamp": 1714597822123,
     "user": {
      "displayName": "Anvar Kurmukov",
      "userId": "12381574800784142893"
     },
     "user_tz": -60
    },
    "id": "rwVk6CbVunM7",
    "outputId": "844c6bed-9347-4c8c-b7fd-fd75da895818"
   },
   "outputs": [],
   "source": [
    "df = all_csvs['msft']\n",
    "df.head()"
   ]
  },
  {
   "cell_type": "markdown",
   "metadata": {
    "id": "nNWbMCx_vYoG"
   },
   "source": [
    "### Описание данных\n",
    "\n",
    "- Date - дата\n",
    "- Open - стоимость акции на момент открытия биржи\n",
    "- High - наивысшая стоимость акции за время работы биржы в этот день\n",
    "- Low - наименьшая стоимость акции за время работы биржы в этот день\n",
    "- Volume - общая сумма операций с данной акцией за рабочий день\n",
    "\n",
    "Стоимость открытия \"Open\" это цена по которой была куплена конкретная акция в первый раз за текующий рабочий день. Стоимость закрытия \"Close\" это цена по которой конкретная акция была куплена в последний раз за текущий рабочий день. Поэтому Close price 1986-03-13 может не совпадать с Open price 1986-03-14.\n",
    "\n",
    "Ваша задача используя признаки Date, Open, High, Low, Volume для текущей даты и любых предшествующих дат предсказать Open цену на \"послезавтра\". Считайте что сегодня биржа уже закрылась, т.е. вам доступны Open, High, Low, Volume на момент \"сегодня\", но **завтрашние не доступны**."
   ]
  },
  {
   "cell_type": "code",
   "execution_count": null,
   "metadata": {
    "colab": {
     "base_uri": "https://localhost:8080/",
     "height": 363
    },
    "executionInfo": {
     "elapsed": 7,
     "status": "ok",
     "timestamp": 1714597824168,
     "user": {
      "displayName": "Anvar Kurmukov",
      "userId": "12381574800784142893"
     },
     "user_tz": -60
    },
    "id": "Um22llIzuoDH",
    "outputId": "2fb6585d-64c6-40cc-bdd5-fb30187315ac"
   },
   "outputs": [],
   "source": [
    "df['y_reg'] = df['Open'].shift(-2)\n",
    "df['y_clf'] = ((df['Close'] - df['Open'].shift(-2)) < 0).astype(int)\n",
    "df = df.dropna()\n",
    "\n",
    "df.head(10)"
   ]
  },
  {
   "cell_type": "markdown",
   "metadata": {
    "id": "lRAdw26ByYLL"
   },
   "source": [
    "### Train, validation, test\n",
    "\n",
    "В качестве test мы будем использовать последний год. В качестве validation и train вы можете использовать любые периоды, но мы предлагаем вам использовать предшествующий год (2022-2023) для validation и предшествующие два года (2020-2022) для train."
   ]
  },
  {
   "cell_type": "code",
   "execution_count": null,
   "metadata": {
    "executionInfo": {
     "elapsed": 184,
     "status": "ok",
     "timestamp": 1714597827138,
     "user": {
      "displayName": "Anvar Kurmukov",
      "userId": "12381574800784142893"
     },
     "user_tz": -60
    },
    "id": "w7toGxQcxjDl"
   },
   "outputs": [],
   "source": [
    "df.index = df.Date\n",
    "\n",
    "data_train = df.truncate(before='2020-04-16', after='2022-04-16')\n",
    "data_val = df.truncate(before='2022-04-17', after='2023-04-17')\n",
    "data_test = df.truncate(before='2023-04-18')"
   ]
  },
  {
   "cell_type": "code",
   "execution_count": null,
   "metadata": {
    "id": "lUZ85wyzDHp8"
   },
   "outputs": [],
   "source": []
  },
  {
   "cell_type": "markdown",
   "metadata": {
    "id": "PQOpQuJ33Z1m"
   },
   "source": [
    "### Идеи для генерации признаков\n",
    "\n",
    "- Лаговые признаки: значение временного ряда 1-2-3-7-... тактов назад\n",
    "- Линейная регрессия построенная по последним 3-5-... известным значениям временного ряда\n",
    "- Скользящее среднее/минимум/максимум/стандартное отклонение/... в окне разной величины (3-5-7-...) с различными сдвигами: 1-2-7-...\n",
    "- Относительное изменение величины временного ряда по сравнению с 1-2-7-... тактами назад\n",
    "- Абсолютное изменение величины временного ряда по сравнению с 1-2-7-... тактами назад\n",
    "- Среднее за те же дни недели за последние 2-3-4-... недель\n",
    "- Все вышеперечисленное но для дополнительных признаков Low, High, Volume:\n",
    "- Разность между Low и High ценами вчера\n",
    "- Логарифм Volume\n",
    "- Оценки числа транзацкций за рабочий день, сегодня, вчера, позавчера,...\n",
    "- Разность между известными Close и Open ценами (цена на момент открытия сегодня, по сравнению с ценой на момент закрытия вчера)\n",
    "- день недели (понедельник, пятница, праздник?)\n",
    "\n",
    "и так далее.\n",
    "\n",
    "\n",
    "При желании вы так же можете использовать информацию о стоимости любых других акций из предоставленного архива `snp500` (всего их там 501 штука). Главное при генерации признаков **не заглядывать в будущее**. Примеры \"заглядывания в будущее\":\n",
    "- Использовать данные о \"завтрашней\" цене при предсказании \"послезавтрашней\". Информация о \"завтрашней\" цене не доступна вам **сегодня**.\n",
    "- Использовать данные Volume при попытке предсказать Close цену по Open цене. Значение **Volume** будет доступно только после закрытия биржы, т.е. уже после того как будет зафиксирована Close цена.\n",
    "- Использовать данные Highe, Low, при попытке предсказать Close цену по Open цене. См. предыдущий пункт.\n",
    "\n"
   ]
  },
  {
   "cell_type": "code",
   "execution_count": null,
   "metadata": {
    "id": "BK7g_-yNDKE2"
   },
   "outputs": [],
   "source": []
  },
  {
   "cell_type": "markdown",
   "metadata": {
    "id": "8Yq5v-jL68aq"
   },
   "source": [
    "### 1.1 Предсказание цены\n",
    "\n",
    "Имплементируйте функцию `generate_features` и обучите три модели регрессии для предсказания цены акции послезавтра `y_reg`:\n",
    "- Линейная модель с l2 регуляризацией\n",
    "- Случайный лес\n",
    "- Градиентный бустинг (если используете catboost не забудьте использовать значение параметра `has_time=True`)\n",
    "\n",
    "Не забудьте удалить из признаков столбцы `y_reg` и `y_clf` перед обучением моделей. Для подбора оптимальных гиперпараметров используйте вашу любимую библиотеку (sklearn, HyperOpt, Optuna) и validation набор данных. Используйте стандартизацию данных если это необходимо. Финальные метрики считайте используя функцию `get_test_metrics_regression` на тестовом наборе данных.\n",
    "\n",
    "\n",
    "Помните что при генерации признаков для validation и test данных, если вы используете какие-то признаки из прошлого, то вам потребуется кусочки данных из train/validation чтобы сгенерить признаки для первых наблюдений из validation, test соответственно.\n",
    "\n",
    "\n",
    "1. Приведите качество трех обученных моделей в терминах mean_absolute_error\n",
    "2. Изобразите важности признаков моделей. Сравните важности признаков в разных моделях, прокоментируйте сходства и отличия.\n",
    "3. Изобразите графически предсказания трех моделей на тестовой части данных, прокомментируйте. С чем могут быть связаны особенности предсказания \"деревянных\" моделей?\n",
    "4. Измерьте качество модели, которая предсказывает `y_reg` последней доступной ценой акции (Close цена сегодня), сравните с качеством моделей машинного обучения, прокоментируйте."
   ]
  },
  {
   "cell_type": "code",
   "execution_count": null,
   "metadata": {
    "executionInfo": {
     "elapsed": 193,
     "status": "ok",
     "timestamp": 1714597830475,
     "user": {
      "displayName": "Anvar Kurmukov",
      "userId": "12381574800784142893"
     },
     "user_tz": -60
    },
    "id": "_Ha6Mlz_4sze"
   },
   "outputs": [],
   "source": [
    "def generate_features():\n",
    "    # TODO\n",
    "    ...\n",
    "\n",
    "\n",
    "def print_test_metrics_regression(model, test_features, y_test):\n",
    "    from sklearn.metrics import mean_absolute_error\n",
    "\n",
    "    assert test_features.shape[0] == 124, f\"Inconsistent number of test samples: {test_features.shape[0]}, should be 124\" # необходимо сделать предсказание для каждого примера из test\n",
    "    try:\n",
    "    y_pred = model.predict(test_features)\n",
    "    except Exception as e:\n",
    "    print(\"Your model failed with: \", str(e))\n",
    "\n",
    "    print(\"MAE:\", mean_absolute_error(y_test, y_pred))"
   ]
  },
  {
   "cell_type": "code",
   "execution_count": null,
   "metadata": {
    "executionInfo": {
     "elapsed": 3,
     "status": "ok",
     "timestamp": 1714597830652,
     "user": {
      "displayName": "Anvar Kurmukov",
      "userId": "12381574800784142893"
     },
     "user_tz": -60
    },
    "id": "QGKY942W-RUW"
   },
   "outputs": [],
   "source": []
  },
  {
   "cell_type": "code",
   "execution_count": null,
   "metadata": {
    "colab": {
     "base_uri": "https://localhost:8080/"
    },
    "executionInfo": {
     "elapsed": 1267,
     "status": "ok",
     "timestamp": 1714597832391,
     "user": {
      "displayName": "Anvar Kurmukov",
      "userId": "12381574800784142893"
     },
     "user_tz": -60
    },
    "id": "6YL5O-za_G6Z",
    "outputId": "56989a44-77e5-45a0-c1ec-592756d4ea71"
   },
   "outputs": [],
   "source": [
    "# 1.1.4\n",
    "from sklearn.metrics import mean_absolute_error\n",
    "\n",
    "y_pred_last = data_test['Close']\n",
    "mean_absolute_error(data_test['y_reg'], y_pred_last)"
   ]
  },
  {
   "cell_type": "code",
   "execution_count": null,
   "metadata": {
    "id": "2aP7A-M_Ah2H"
   },
   "outputs": [],
   "source": []
  },
  {
   "cell_type": "markdown",
   "metadata": {
    "id": "DoUvKdomUtBL"
   },
   "source": [
    "### 1.2 Предсказание роста цены\n",
    "\n",
    "Вместо того чтобы предсказывать цену, в этом задании вы будете предсказывать факт (строгого) роста цены (послезавтрашней цены открытия по сравнению с сегодняшней ценой закрытия).\n",
    "\n",
    "Единственное отличие от пункта 1.1 в том что теперь вы предсказываете столбец `y_clf`.\n",
    "\n",
    "1. Приведите качество в терминах precision и recall, трех обученных моделей. Какой из показателей на ваш взгляд важнее с точки зрения специфики задачи?\n",
    "2. Для моделей из предыдущего пункта постройте кривые precision и recall в зависимости от порога вероятности, для этого воспользуйтесь функцией `sklearn.metrics.precision_recall_curve`, прокоментируйте.\n",
    "3. Воспользуйтесь моделями из пункта 1.1, для того чтобы получить предсказание роста цены. Посчитайте метрики precision и recall для предсказаний полученных на основе регрессионных моделей. Сравните качество с классификационными моделями.\n",
    "4. Измерьте качество модели, которая предсказывает y_clf последним доступным изменением цены акции ($Open - Close$ цена сегодня), сравните с качеством моделей машинного обучения, прокоментируйте."
   ]
  },
  {
   "cell_type": "code",
   "execution_count": null,
   "metadata": {
    "id": "LbiIEEoxAi3w"
   },
   "outputs": [],
   "source": []
  },
  {
   "cell_type": "code",
   "execution_count": null,
   "metadata": {
    "id": "faZXTVMEqj7Y"
   },
   "outputs": [],
   "source": [
    "# 1.2.5\n",
    "from sklearn.metrics import precision_score\n",
    "\n",
    "y_pred_clf = ((data_test['Open'] - data_test['Close']) < 0).astype(int)\n",
    "precision_score(data_test['y_clf'], y_pred_clf)"
   ]
  },
  {
   "cell_type": "code",
   "execution_count": null,
   "metadata": {
    "id": "JiG3ImxVAij9"
   },
   "outputs": [],
   "source": []
  },
  {
   "cell_type": "code",
   "execution_count": null,
   "metadata": {
    "id": "DB4pcHqbAv_V"
   },
   "outputs": [],
   "source": []
  },
  {
   "cell_type": "markdown",
   "metadata": {
    "id": "1UCUHaIQAwLy"
   },
   "source": [
    "## 1.3 Выводы\n",
    "\n",
    "Прокомментируйте ваши результаты.\n",
    "\n",
    "1. Сравните важность признаков регрессионных и классификационных моделей, прокомментируйте ваши наблюдения.\n",
    "2. Что вы можете сказать о точности полученных моделей, пригодны ли они на ваш взгляд для торгов на бирже, почему?\n"
   ]
  },
  {
   "cell_type": "code",
   "execution_count": null,
   "metadata": {
    "id": "q1aEJfMWBmIL"
   },
   "outputs": [],
   "source": []
  },
  {
   "cell_type": "code",
   "execution_count": null,
   "metadata": {
    "id": "yAGqOZx3CMpc"
   },
   "outputs": [],
   "source": []
  },
  {
   "cell_type": "markdown",
   "metadata": {
    "id": "RtdgbXRkCUJE"
   },
   "source": [
    "# 2. High frequency trading\n",
    "\n",
    "### Термины\n",
    "\n",
    "- **заявка** (order) на покупку или продажу это запрос (на покупку или продажу) какого-то определенного количества ценной бумаги (или дериватива) по определенной цене (котировке).\n",
    "\n",
    "- **исполнением** (fill) заявки называется исполнение запроса на покупку или продажу. Например, Вася отправил заявку на покупку 100 акций по цене 1 доллар за акцию. А Петя отправил заявку на продажу 100 акций по цене 1 доллар. Петя исполнил заявку Васи.\n",
    "\n",
    "- **биржевой стакан** (order book) - список всех не исполненных заявок. Заявки в биржевом стакане исполняются в приоритетном порядке, сначала по цене (наилучшая цена в первую очередь), затем по времени (в первую очередь исполняется заявка выставленная раньше).\n",
    "\n",
    "- **бид** (bid price) - означает выставить заявку на продажу X акций по цене Y.\n",
    "\n",
    "- **аск** (ask price) - означает выставить заявку на покупку X акций по цене Y.\n",
    "\n",
    "\n",
    "Величина бид в биржевом стакане всегда меньше чем величина аск (почему?).\n",
    "\n",
    "\n",
    "![orderbook](https://www.simtrade.fr/blog_simtrade/wp-content/uploads/2023/08/img_Order_book_buy_sell_side_by_side.png\")\n",
    "\n",
    "\n",
    "### Аналогия работы биржи на примере валютных обменников.\n",
    "\n",
    "Представьте что вам нужно купить наличные доллары, а у вас есть наличные рубли. Вы можете выбрать из 10 обменников. Список из 10 обменников это биржевой стакан. Каждый обменник предлагает вам:\n",
    "- \"цену покупки\" (то за сколько рублей вы сможете продать обменнику 1 доллар), это \"bid\" \n",
    "- и \"цену продажи\" (то за сколько рублей обменник готов у вас купить 1 доллар), это \"ask\".\n",
    "\"Цена покупки\" всегда меньше чем \"Цена продажи\", это верно даже если сравнивать цены покупки и продажи в разных обменниках (почему?). Количество наличных в конкретном обменнике, это его \"объем\" (volume = количество акций), в отличие от биржевого стакана обменники не публикуют эту величину. \n",
    "\n",
    "Если конкретный обменник готов продать вам только 1000 долларов по наилучшей цене 97.5 рублей за доллар, а вы хотите купить 1500 долларов, то оставшиеся 500 долларов вам придется покупать в другом обменнике (который продает их по 97.6 рублей за доллар). При этом по мере того как у конкретного обменника будет заканчиваться наличные доллары он будет понемногу повышать цену продажи и поднимать цену покупки.\n"
   ]
  },
  {
   "cell_type": "code",
   "execution_count": null,
   "metadata": {},
   "outputs": [],
   "source": []
  },
  {
   "cell_type": "code",
   "execution_count": null,
   "metadata": {},
   "outputs": [],
   "source": []
  },
  {
   "cell_type": "markdown",
   "metadata": {},
   "source": [
    "\n",
    "### Описание столбцов данных\n",
    "\n",
    "- last_price - цена, по которой произошло последнее исполнение заявки.\n",
    "- mid - (bid1 + ask1) / 2.\n",
    "- opened_position_qty - сколько заявок на покупку было исполнено за последние 500 мс. Содержит пропуски.\n",
    "- closed_position_qty - сколько ордеров на продажу было исполнено за последние 500 мс. Содержит пропуски.\n",
    "- bid1 - наилучшая (наивысшая) цена покупки акции\n",
    "- bid[2,3,4,5] - [2-я, 3-я, 4-я, 5-я] лучшая (наивысшая) цена покупки\n",
    "- ask1 - наилучшая (наименьшая) цена продажи\n",
    "- ask[2,3,4,5] - [2-я, 3-я, 4-я, 5-я] лучшая (наименьшая) цена продажи\n",
    "- bid1vol - сколько акций в биржевом стакане можно купить по наилучшей цене\n",
    "- bid[2,3,4,5]vol - сколько акций в биржевом стакане можно купить по [2,3,4,5]-й цене покупки\n",
    "- ask1vol - сколько акций в биржевом стакане по 1-ой цене продажи?\n",
    "- ask[2,3,4,5]vol - сколько акций в биржевом стакане по [2,3,4,5]-й цене продажи?\n",
    "- y - Вырaстет ли средняя цена mid за следующие 2 такта (примерно 1 секунда) в будущее?\n",
    "\n",
    "Данные упорядочены по времени `id`, но информация о точной дате и времени отсутствует. Время между соседними записями составляет 500 мс (за исключением записей соответствующих концу рабочего дня и началу следующего, но этим фактом предлагается принебречь). В предположении что биржа открыта c 9:30 до 16:00 данные содержат информацию о чуть более двух неделях торговых сессий."
   ]
  },
  {
   "cell_type": "code",
   "execution_count": null,
   "metadata": {
    "executionInfo": {
     "elapsed": 431,
     "status": "ok",
     "timestamp": 1714635985850,
     "user": {
      "displayName": "Anvar Kurmukov",
      "userId": "12381574800784142893"
     },
     "user_tz": -60
    },
    "id": "loih9PizPefT"
   },
   "outputs": [],
   "source": [
    "import pandas as pd\n",
    "import matplotlib.pyplot as plt\n",
    "%matplotlib inline"
   ]
  },
  {
   "cell_type": "code",
   "execution_count": null,
   "metadata": {},
   "outputs": [],
   "source": [
    "df = pd.read_csv('hft_data_sample.csv')"
   ]
  },
  {
   "cell_type": "code",
   "execution_count": null,
   "metadata": {},
   "outputs": [],
   "source": [
    "# 60 * 60 * 2 = 7200ms в часе\n",
    "\n",
    "plt.figure(figsize=(12,5))\n",
    "plt.title('Mid price over time')\n",
    "plt.plot(df['id'].iloc[::7200], df['mid'].iloc[::7200], label='hourly')\n",
    "plt.plot(df['id'].iloc[::54000], df['mid'].iloc[::54000], label='daily')\n",
    "plt.ylabel('price, $')\n",
    "plt.xlabel('time')\n",
    "plt.legend();"
   ]
  },
  {
   "cell_type": "code",
   "execution_count": null,
   "metadata": {},
   "outputs": [],
   "source": []
  },
  {
   "cell_type": "code",
   "execution_count": null,
   "metadata": {},
   "outputs": [],
   "source": [
    "time = 0\n",
    "\n",
    "plt.title('Order book')\n",
    "plt.bar(df.iloc[time][['bid1','bid2','bid3','bid4','bid5']],\n",
    "        df.iloc[time][['bid1vol', 'bid2vol', 'bid3vol', 'bid4vol', 'bid5vol']],\n",
    "       width=0.25, label='bid price')\n",
    "\n",
    "\n",
    "plt.bar(df.iloc[time][['ask1', 'ask2', 'ask3', 'ask4',\n",
    "       'ask5']],\n",
    "        df.iloc[time][['ask1vol', 'ask2vol', 'ask3vol', 'ask4vol', 'ask5vol']],\n",
    "       width=0.25, label='ask price')\n",
    "\n",
    "plt.vlines(df.iloc[time][['mid']], 0, 14, color='r', ls='--', label='mid')\n",
    "plt.legend()\n",
    "plt.xlabel('Price, $')\n",
    "plt.ylabel('Volume');"
   ]
  },
  {
   "cell_type": "code",
   "execution_count": null,
   "metadata": {},
   "outputs": [],
   "source": []
  },
  {
   "cell_type": "markdown",
   "metadata": {
    "id": "F0unL8BiQP4c"
   },
   "source": [
    "### Train, validation, test\n",
    "\n",
    "В качестве test мы будем использовать последние двое суток (108000 записей). В качестве validation и train вы можете использовать любые периоды, но мы предлагаем вам использовать предшествующие двое суток для validation и все остальное для train."
   ]
  },
  {
   "cell_type": "code",
   "execution_count": null,
   "metadata": {},
   "outputs": [],
   "source": [
    "data_test = df.iloc[-108000:]\n",
    "data_validation = df.iloc[-216000:-108000]\n",
    "data_train = df.iloc[:-216000]"
   ]
  },
  {
   "cell_type": "code",
   "execution_count": null,
   "metadata": {},
   "outputs": [],
   "source": [
    "data_train.shape, data_validation.shape, data_test.shape"
   ]
  },
  {
   "cell_type": "markdown",
   "metadata": {},
   "source": [
    "### Идеи для генерации признаков\n",
    "\n",
    "1. Обычные лаговые признаки, которые использовались в предыдущем задании\n",
    "2. Суммарное число заявок на покупку и продажу исполненных за последние 500мс, 1с, ...\n",
    "3. Разница между числом заявок на покупки и продажу исполненных за последние 500мс, 1с, ...\n",
    "4. Спред (разность) между (1,2,3,4,5) ценой покупки и (1,2,3,4,5) ценой продажи, за последние 500мс, 1с, ...\n",
    "5. Отношение между ценами покупки и продажи\n",
    "6. Общая сумма выставленных на текущий момент бумаг на покупку/продажу\n",
    "7. Разность между последней ценой продажи и максимальной ценой продажи\n",
    "8. Как поменяется midprice если будет куплено/продано X акций\n",
    "\n",
    "и так далее\n",
    "\n",
    "\n",
    "### Задание\n",
    "\n",
    "Постройте модель машинного обучения для предложенной задачи, измерьте ее качество на тестовой выборке и опишите свое решение. Прокомментируйте различия в качестве полученном для High-frequency data и качестве полученном для по-суточных данных."
   ]
  },
  {
   "cell_type": "code",
   "execution_count": null,
   "metadata": {},
   "outputs": [],
   "source": []
  }
 ],
 "metadata": {
  "colab": {
   "authorship_tag": "ABX9TyMpIJt2EPojbqbVmQrMb/NQ",
   "mount_file_id": "1qrfFJE34nyuIjB0AFV57Z8eaYgDb2LN5",
   "provenance": []
  },
  "kernelspec": {
   "display_name": "Python 3 (ipykernel)",
   "language": "python",
   "name": "python3"
  },
  "language_info": {
   "codemirror_mode": {
    "name": "ipython",
    "version": 3
   },
   "file_extension": ".py",
   "mimetype": "text/x-python",
   "name": "python",
   "nbconvert_exporter": "python",
   "pygments_lexer": "ipython3",
   "version": "3.11.4"
  }
 },
 "nbformat": 4,
 "nbformat_minor": 1
}
