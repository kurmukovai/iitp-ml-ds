{
 "cells": [
  {
   "cell_type": "code",
   "execution_count": 2,
   "id": "34bbf5c3",
   "metadata": {},
   "outputs": [],
   "source": [
    "import pandas as pd\n",
    "import numpy as np"
   ]
  },
  {
   "cell_type": "code",
   "execution_count": null,
   "id": "a84c48fc",
   "metadata": {},
   "outputs": [],
   "source": [
    "train - подбор параметров (учатся процедурой обучения)\n",
    "val - подбор гиперпараметров (\"перебор\")\n",
    "test - оценка качества модели"
   ]
  },
  {
   "cell_type": "code",
   "execution_count": 3,
   "id": "b5d8dde7",
   "metadata": {},
   "outputs": [],
   "source": [
    "pd.options.display.max_columns=30"
   ]
  },
  {
   "cell_type": "code",
   "execution_count": 4,
   "id": "f4ed5304",
   "metadata": {},
   "outputs": [],
   "source": [
    "df = pd.read_csv('kc_house_data_train.csv', index_col=0).drop(['id', 'zipcode', 'lat', 'long'], axis=1)"
   ]
  },
  {
   "cell_type": "code",
   "execution_count": 5,
   "id": "f550a3a2",
   "metadata": {},
   "outputs": [],
   "source": [
    "from sklearn.model_selection import train_test_split"
   ]
  },
  {
   "cell_type": "code",
   "execution_count": 6,
   "id": "2be05870",
   "metadata": {},
   "outputs": [],
   "source": [
    "df_train, df_test = train_test_split(df, test_size=0.34, shuffle=False)"
   ]
  },
  {
   "cell_type": "code",
   "execution_count": 7,
   "id": "20890060",
   "metadata": {},
   "outputs": [],
   "source": [
    "X_train = df_train.drop(['price', 'date'], axis=1)\n",
    "y_train = df_train['price']\n",
    "\n",
    "X_test = df_test.drop(['price', 'date'], axis=1)\n",
    "y_test = df_test['price']\n",
    "\n",
    "X_test = (X_test - X_train.mean(axis=0)) / X_train.std(axis=0)\n",
    "\n",
    "# X_test = (X_test - X_test.mean(axis=0)) / X_test.std(axis=0)\n",
    "X_train = (X_train - X_train.mean(axis=0)) / X_train.std(axis=0)"
   ]
  },
  {
   "cell_type": "code",
   "execution_count": 8,
   "id": "94f14e75",
   "metadata": {},
   "outputs": [],
   "source": [
    "from sklearn.linear_model import LinearRegression"
   ]
  },
  {
   "cell_type": "code",
   "execution_count": 9,
   "id": "83b2ea80",
   "metadata": {},
   "outputs": [
    {
     "data": {
      "text/html": [
       "<style>#sk-container-id-1 {color: black;}#sk-container-id-1 pre{padding: 0;}#sk-container-id-1 div.sk-toggleable {background-color: white;}#sk-container-id-1 label.sk-toggleable__label {cursor: pointer;display: block;width: 100%;margin-bottom: 0;padding: 0.3em;box-sizing: border-box;text-align: center;}#sk-container-id-1 label.sk-toggleable__label-arrow:before {content: \"▸\";float: left;margin-right: 0.25em;color: #696969;}#sk-container-id-1 label.sk-toggleable__label-arrow:hover:before {color: black;}#sk-container-id-1 div.sk-estimator:hover label.sk-toggleable__label-arrow:before {color: black;}#sk-container-id-1 div.sk-toggleable__content {max-height: 0;max-width: 0;overflow: hidden;text-align: left;background-color: #f0f8ff;}#sk-container-id-1 div.sk-toggleable__content pre {margin: 0.2em;color: black;border-radius: 0.25em;background-color: #f0f8ff;}#sk-container-id-1 input.sk-toggleable__control:checked~div.sk-toggleable__content {max-height: 200px;max-width: 100%;overflow: auto;}#sk-container-id-1 input.sk-toggleable__control:checked~label.sk-toggleable__label-arrow:before {content: \"▾\";}#sk-container-id-1 div.sk-estimator input.sk-toggleable__control:checked~label.sk-toggleable__label {background-color: #d4ebff;}#sk-container-id-1 div.sk-label input.sk-toggleable__control:checked~label.sk-toggleable__label {background-color: #d4ebff;}#sk-container-id-1 input.sk-hidden--visually {border: 0;clip: rect(1px 1px 1px 1px);clip: rect(1px, 1px, 1px, 1px);height: 1px;margin: -1px;overflow: hidden;padding: 0;position: absolute;width: 1px;}#sk-container-id-1 div.sk-estimator {font-family: monospace;background-color: #f0f8ff;border: 1px dotted black;border-radius: 0.25em;box-sizing: border-box;margin-bottom: 0.5em;}#sk-container-id-1 div.sk-estimator:hover {background-color: #d4ebff;}#sk-container-id-1 div.sk-parallel-item::after {content: \"\";width: 100%;border-bottom: 1px solid gray;flex-grow: 1;}#sk-container-id-1 div.sk-label:hover label.sk-toggleable__label {background-color: #d4ebff;}#sk-container-id-1 div.sk-serial::before {content: \"\";position: absolute;border-left: 1px solid gray;box-sizing: border-box;top: 0;bottom: 0;left: 50%;z-index: 0;}#sk-container-id-1 div.sk-serial {display: flex;flex-direction: column;align-items: center;background-color: white;padding-right: 0.2em;padding-left: 0.2em;position: relative;}#sk-container-id-1 div.sk-item {position: relative;z-index: 1;}#sk-container-id-1 div.sk-parallel {display: flex;align-items: stretch;justify-content: center;background-color: white;position: relative;}#sk-container-id-1 div.sk-item::before, #sk-container-id-1 div.sk-parallel-item::before {content: \"\";position: absolute;border-left: 1px solid gray;box-sizing: border-box;top: 0;bottom: 0;left: 50%;z-index: -1;}#sk-container-id-1 div.sk-parallel-item {display: flex;flex-direction: column;z-index: 1;position: relative;background-color: white;}#sk-container-id-1 div.sk-parallel-item:first-child::after {align-self: flex-end;width: 50%;}#sk-container-id-1 div.sk-parallel-item:last-child::after {align-self: flex-start;width: 50%;}#sk-container-id-1 div.sk-parallel-item:only-child::after {width: 0;}#sk-container-id-1 div.sk-dashed-wrapped {border: 1px dashed gray;margin: 0 0.4em 0.5em 0.4em;box-sizing: border-box;padding-bottom: 0.4em;background-color: white;}#sk-container-id-1 div.sk-label label {font-family: monospace;font-weight: bold;display: inline-block;line-height: 1.2em;}#sk-container-id-1 div.sk-label-container {text-align: center;}#sk-container-id-1 div.sk-container {/* jupyter's `normalize.less` sets `[hidden] { display: none; }` but bootstrap.min.css set `[hidden] { display: none !important; }` so we also need the `!important` here to be able to override the default hidden behavior on the sphinx rendered scikit-learn.org. See: https://github.com/scikit-learn/scikit-learn/issues/21755 */display: inline-block !important;position: relative;}#sk-container-id-1 div.sk-text-repr-fallback {display: none;}</style><div id=\"sk-container-id-1\" class=\"sk-top-container\"><div class=\"sk-text-repr-fallback\"><pre>LinearRegression()</pre><b>In a Jupyter environment, please rerun this cell to show the HTML representation or trust the notebook. <br />On GitHub, the HTML representation is unable to render, please try loading this page with nbviewer.org.</b></div><div class=\"sk-container\" hidden><div class=\"sk-item\"><div class=\"sk-estimator sk-toggleable\"><input class=\"sk-toggleable__control sk-hidden--visually\" id=\"sk-estimator-id-1\" type=\"checkbox\" checked><label for=\"sk-estimator-id-1\" class=\"sk-toggleable__label sk-toggleable__label-arrow\">LinearRegression</label><div class=\"sk-toggleable__content\"><pre>LinearRegression()</pre></div></div></div></div></div>"
      ],
      "text/plain": [
       "LinearRegression()"
      ]
     },
     "execution_count": 9,
     "metadata": {},
     "output_type": "execute_result"
    }
   ],
   "source": [
    "lr1 = LinearRegression()\n",
    "lr1.fit(X_train, df_train['price'])"
   ]
  },
  {
   "cell_type": "code",
   "execution_count": 10,
   "id": "901283ba",
   "metadata": {},
   "outputs": [],
   "source": [
    "y_train_predicted = lr1.predict(X_train)"
   ]
  },
  {
   "cell_type": "code",
   "execution_count": 11,
   "id": "9b2d9f4c",
   "metadata": {},
   "outputs": [],
   "source": [
    "from sklearn.metrics import mean_squared_error"
   ]
  },
  {
   "cell_type": "code",
   "execution_count": 19,
   "id": "f5b6bce9",
   "metadata": {},
   "outputs": [
    {
     "data": {
      "text/plain": [
       "213655.66450664774"
      ]
     },
     "execution_count": 19,
     "metadata": {},
     "output_type": "execute_result"
    }
   ],
   "source": [
    "np.sqrt(((df_train['price'] - y_train_predicted)**2).mean())"
   ]
  },
  {
   "cell_type": "code",
   "execution_count": 13,
   "id": "7fc3fa62",
   "metadata": {},
   "outputs": [
    {
     "data": {
      "text/plain": [
       "45648742975.777214"
      ]
     },
     "execution_count": 13,
     "metadata": {},
     "output_type": "execute_result"
    }
   ],
   "source": [
    "mean_squared_error(df_train['price'], y_train_predicted)"
   ]
  },
  {
   "cell_type": "code",
   "execution_count": 15,
   "id": "a62fb32e",
   "metadata": {},
   "outputs": [
    {
     "data": {
      "text/plain": [
       "538515.4580368355"
      ]
     },
     "execution_count": 15,
     "metadata": {},
     "output_type": "execute_result"
    }
   ],
   "source": [
    "df_train['price'].mean()"
   ]
  },
  {
   "cell_type": "code",
   "execution_count": 16,
   "id": "91d64ed1",
   "metadata": {},
   "outputs": [],
   "source": [
    "import matplotlib.pyplot as plt"
   ]
  },
  {
   "cell_type": "code",
   "execution_count": 17,
   "id": "7b3dd7eb",
   "metadata": {},
   "outputs": [
    {
     "data": {
      "text/plain": [
       "[<matplotlib.lines.Line2D at 0x7fe984069c50>]"
      ]
     },
     "execution_count": 17,
     "metadata": {},
     "output_type": "execute_result"
    },
    {
     "data": {
      "image/png": "[encoded data removed]",
      "text/plain": [
       "<Figure size 432x288 with 1 Axes>"
      ]
     },
     "metadata": {
      "needs_background": "light"
     },
     "output_type": "display_data"
    }
   ],
   "source": [
    "plt.scatter(df_train['price'], y_train_predicted)\n",
    "plt.plot([0,5*10e5], [0,5*10e5], c='r')"
   ]
  },
  {
   "cell_type": "code",
   "execution_count": 18,
   "id": "d54824b9",
   "metadata": {},
   "outputs": [
    {
     "data": {
      "image/png": "[encoded data removed]",
      "text/plain": [
       "<Figure size 432x288 with 1 Axes>"
      ]
     },
     "metadata": {
      "needs_background": "light"
     },
     "output_type": "display_data"
    }
   ],
   "source": [
    "plt.hist(df_train['price'], bins=100);"
   ]
  },
  {
   "cell_type": "markdown",
   "id": "3b118b22",
   "metadata": {},
   "source": [
    "# FIlter anomalous houses"
   ]
  },
  {
   "cell_type": "code",
   "execution_count": 15,
   "id": "6f869258",
   "metadata": {},
   "outputs": [],
   "source": [
    "X_train = df_train.drop(['price', 'date'], axis=1)\n",
    "X_test = df_test.drop(['price', 'date'], axis=1)\n",
    "\n",
    "threshold = 1_000_000# df_train['price'].quantile(0.99)\n",
    "\n",
    "X_train = X_train[df_train['price'] <= threshold]\n",
    "y_train = df_train[df_train['price'] <= threshold]['price']\n",
    "\n",
    "X_test = X_test[df_test['price'] <= threshold]\n",
    "y_test = df_test[df_test['price'] <= threshold]['price']\n",
    "\n",
    "X_test = (X_test - X_train.mean(axis=0)) / X_train.std(axis=0)\n",
    "X_train = (X_train - X_train.mean(axis=0)) / X_train.std(axis=0)"
   ]
  },
  {
   "cell_type": "code",
   "execution_count": 16,
   "id": "b6a2e7e1",
   "metadata": {},
   "outputs": [
    {
     "data": {
      "text/plain": [
       "129315.58658019411"
      ]
     },
     "execution_count": 16,
     "metadata": {},
     "output_type": "execute_result"
    }
   ],
   "source": [
    "lr2 = LinearRegression()\n",
    "lr2.fit(X_train, y_train)\n",
    "\n",
    "y_train_predicted = lr2.predict(X_train)\n",
    "\n",
    "np.sqrt(((y_train - y_train_predicted)**2).mean())"
   ]
  },
  {
   "cell_type": "code",
   "execution_count": 17,
   "id": "1a285a02",
   "metadata": {},
   "outputs": [
    {
     "data": {
      "text/plain": [
       "468463.86182591185"
      ]
     },
     "execution_count": 17,
     "metadata": {},
     "output_type": "execute_result"
    }
   ],
   "source": [
    "y_train.mean()"
   ]
  },
  {
   "cell_type": "code",
   "execution_count": 18,
   "id": "e2c3d497",
   "metadata": {},
   "outputs": [
    {
     "data": {
      "text/plain": [
       "(array([ 177., 1112., 1800., 1589., 1395., 1001.,  723.,  512.,  374.,\n",
       "         255.]),\n",
       " array([  81000.,  172900.,  264800.,  356700.,  448600.,  540500.,\n",
       "         632400.,  724300.,  816200.,  908100., 1000000.]),\n",
       " <BarContainer object of 10 artists>)"
      ]
     },
     "execution_count": 18,
     "metadata": {},
     "output_type": "execute_result"
    },
    {
     "data": {
      "image/png": "[encoded data removed]",
      "text/plain": [
       "<Figure size 640x480 with 1 Axes>"
      ]
     },
     "metadata": {},
     "output_type": "display_data"
    }
   ],
   "source": [
    "plt.hist(y_train)"
   ]
  },
  {
   "cell_type": "markdown",
   "id": "d6a4aa28",
   "metadata": {},
   "source": [
    "### Check if the quality really improved, or its just the method of computing the MSE"
   ]
  },
  {
   "cell_type": "code",
   "execution_count": 19,
   "id": "781fa467",
   "metadata": {},
   "outputs": [
    {
     "data": {
      "text/plain": [
       "156496.01010605643"
      ]
     },
     "execution_count": 19,
     "metadata": {},
     "output_type": "execute_result"
    }
   ],
   "source": [
    "X_train = df_train.drop(['price', 'date'], axis=1)\n",
    "y_train = df_train['price']\n",
    "\n",
    "X_test = df_test.drop(['price', 'date'], axis=1)\n",
    "y_test = df_test['price']\n",
    "\n",
    "X_test = (X_test - X_train.mean(axis=0)) / X_train.std(axis=0)\n",
    "X_train = (X_train - X_train.mean(axis=0)) / X_train.std(axis=0)\n",
    "\n",
    "np.sqrt(((y_train[df_train['price'] <= threshold] - lr1.predict(X_train[df_train['price'] <= threshold]))**2).mean())\n",
    "\n",
    "\n",
    "# It did improve!"
   ]
  },
  {
   "cell_type": "code",
   "execution_count": 20,
   "id": "9efd0c2e",
   "metadata": {},
   "outputs": [],
   "source": [
    "# plt.scatter(y_train, y_train_predicted)\n",
    "\n",
    "# # plt.plot([0,2*10e4], [0,2*10e4], c='r');\n",
    "# plt.plot([0,1*10e5], [0,1*10e5], c='r');"
   ]
  },
  {
   "cell_type": "markdown",
   "id": "f70384a3",
   "metadata": {},
   "source": [
    "# Analyse the remaining data"
   ]
  },
  {
   "cell_type": "code",
   "execution_count": 21,
   "id": "cc360c06",
   "metadata": {},
   "outputs": [],
   "source": [
    "X_train = df_train.drop(['price'], axis=1)\n",
    "X_test = df_test.drop(['price'], axis=1)\n",
    "\n",
    "threshold = 1_000_000# df_train['price'].quantile(0.99)\n",
    "\n",
    "X_train = X_train[df_train['price'] <= threshold]\n",
    "y_train = df_train[df_train['price'] <= threshold]['price']"
   ]
  },
  {
   "cell_type": "code",
   "execution_count": 22,
   "id": "ad319cbc",
   "metadata": {},
   "outputs": [
    {
     "data": {
      "text/html": [
       "<div>\n",
       "<style scoped>\n",
       "    .dataframe tbody tr th:only-of-type {\n",
       "        vertical-align: middle;\n",
       "    }\n",
       "\n",
       "    .dataframe tbody tr th {\n",
       "        vertical-align: top;\n",
       "    }\n",
       "\n",
       "    .dataframe thead th {\n",
       "        text-align: right;\n",
       "    }\n",
       "</style>\n",
       "<table border=\"1\" class=\"dataframe\">\n",
       "  <thead>\n",
       "    <tr style=\"text-align: right;\">\n",
       "      <th></th>\n",
       "      <th>date</th>\n",
       "      <th>bedrooms</th>\n",
       "      <th>bathrooms</th>\n",
       "      <th>sqft_living</th>\n",
       "      <th>sqft_lot</th>\n",
       "      <th>floors</th>\n",
       "      <th>waterfront</th>\n",
       "      <th>view</th>\n",
       "      <th>condition</th>\n",
       "      <th>grade</th>\n",
       "      <th>sqft_above</th>\n",
       "      <th>sqft_basement</th>\n",
       "      <th>yr_built</th>\n",
       "      <th>yr_renovated</th>\n",
       "      <th>sqft_living15</th>\n",
       "      <th>sqft_lot15</th>\n",
       "    </tr>\n",
       "  </thead>\n",
       "  <tbody>\n",
       "    <tr>\n",
       "      <th>21162</th>\n",
       "      <td>20141003T000000</td>\n",
       "      <td>4</td>\n",
       "      <td>3.50</td>\n",
       "      <td>3560</td>\n",
       "      <td>6562</td>\n",
       "      <td>2.0</td>\n",
       "      <td>0</td>\n",
       "      <td>0</td>\n",
       "      <td>3</td>\n",
       "      <td>10</td>\n",
       "      <td>3560</td>\n",
       "      <td>0</td>\n",
       "      <td>2014</td>\n",
       "      <td>0</td>\n",
       "      <td>3710</td>\n",
       "      <td>6562</td>\n",
       "    </tr>\n",
       "    <tr>\n",
       "      <th>16877</th>\n",
       "      <td>20140805T000000</td>\n",
       "      <td>3</td>\n",
       "      <td>3.25</td>\n",
       "      <td>4610</td>\n",
       "      <td>81935</td>\n",
       "      <td>2.0</td>\n",
       "      <td>0</td>\n",
       "      <td>0</td>\n",
       "      <td>4</td>\n",
       "      <td>9</td>\n",
       "      <td>4610</td>\n",
       "      <td>0</td>\n",
       "      <td>1984</td>\n",
       "      <td>0</td>\n",
       "      <td>2900</td>\n",
       "      <td>43500</td>\n",
       "    </tr>\n",
       "    <tr>\n",
       "      <th>16116</th>\n",
       "      <td>20140715T000000</td>\n",
       "      <td>4</td>\n",
       "      <td>1.75</td>\n",
       "      <td>1890</td>\n",
       "      <td>10550</td>\n",
       "      <td>1.0</td>\n",
       "      <td>0</td>\n",
       "      <td>0</td>\n",
       "      <td>5</td>\n",
       "      <td>7</td>\n",
       "      <td>1010</td>\n",
       "      <td>880</td>\n",
       "      <td>1969</td>\n",
       "      <td>0</td>\n",
       "      <td>1930</td>\n",
       "      <td>7291</td>\n",
       "    </tr>\n",
       "  </tbody>\n",
       "</table>\n",
       "</div>"
      ],
      "text/plain": [
       "                  date  bedrooms  bathrooms  sqft_living  sqft_lot  floors  \\\n",
       "21162  20141003T000000         4       3.50         3560      6562     2.0   \n",
       "16877  20140805T000000         3       3.25         4610     81935     2.0   \n",
       "16116  20140715T000000         4       1.75         1890     10550     1.0   \n",
       "\n",
       "       waterfront  view  condition  grade  sqft_above  sqft_basement  \\\n",
       "21162           0     0          3     10        3560              0   \n",
       "16877           0     0          4      9        4610              0   \n",
       "16116           0     0          5      7        1010            880   \n",
       "\n",
       "       yr_built  yr_renovated  sqft_living15  sqft_lot15  \n",
       "21162      2014             0           3710        6562  \n",
       "16877      1984             0           2900       43500  \n",
       "16116      1969             0           1930        7291  "
      ]
     },
     "execution_count": 22,
     "metadata": {},
     "output_type": "execute_result"
    }
   ],
   "source": [
    "X_train.head(3)"
   ]
  },
  {
   "cell_type": "code",
   "execution_count": 23,
   "id": "336ce1ee",
   "metadata": {},
   "outputs": [
    {
     "data": {
      "text/plain": [
       "0"
      ]
     },
     "execution_count": 23,
     "metadata": {},
     "output_type": "execute_result"
    }
   ],
   "source": [
    "(X_train['sqft_living'] != X_train['sqft_above'] + X_train['sqft_basement']  ).sum()\n",
    "# ---> drop sqft_living"
   ]
  },
  {
   "cell_type": "code",
   "execution_count": 24,
   "id": "5bab5321",
   "metadata": {},
   "outputs": [],
   "source": [
    "X_train=X_train.drop('sqft_living', axis=1)\n",
    "X_test=X_test.drop('sqft_living', axis=1)"
   ]
  },
  {
   "cell_type": "code",
   "execution_count": 25,
   "id": "45045269",
   "metadata": {},
   "outputs": [],
   "source": [
    "# generate how old is the house\n",
    "# generate years since renovation"
   ]
  },
  {
   "cell_type": "code",
   "execution_count": 26,
   "id": "3df1b598",
   "metadata": {},
   "outputs": [],
   "source": [
    "def fix_years(df):\n",
    "    # Fix yr_renovated\n",
    "    df['yr_renovated'] = df['yr_renovated'].replace(0, np.nan)\n",
    "    df['yr_renovated'] = df['yr_renovated'].fillna(df['yr_built'])\n",
    "\n",
    "    # Create yr sold\n",
    "    df['Sold_year'] = df.date.apply(lambda x: int(x[:4]))\n",
    "\n",
    "    # generate how old is the house\n",
    "    # generate years since renovation\n",
    "    df['Years_old'] = df['Sold_year']  - df['yr_built']\n",
    "    df['Years_since_renov'] = df['Sold_year'] - df['yr_renovated']\n",
    "    \n",
    "    return df.drop(['yr_renovated', 'date', 'yr_built', 'Sold_year'], axis=1)"
   ]
  },
  {
   "cell_type": "code",
   "execution_count": 27,
   "id": "e36aec39",
   "metadata": {},
   "outputs": [],
   "source": [
    "X_train = fix_years(X_train)\n",
    "X_test = fix_years(X_test)"
   ]
  },
  {
   "cell_type": "code",
   "execution_count": 28,
   "id": "30cacefc",
   "metadata": {},
   "outputs": [],
   "source": [
    "X_test = (X_test - X_train.mean(axis=0)) / X_train.std(axis=0)\n",
    "X_train = (X_train - X_train.mean(axis=0)) / X_train.std(axis=0)"
   ]
  },
  {
   "cell_type": "code",
   "execution_count": 29,
   "id": "e22c5580",
   "metadata": {},
   "outputs": [
    {
     "name": "stdout",
     "output_type": "stream",
     "text": [
      "129251.23473745803\n"
     ]
    }
   ],
   "source": [
    "lr3 = LinearRegression()\n",
    "lr3.fit(X_train, y_train)\n",
    "\n",
    "y_train_predicted = lr3.predict(X_train)\n",
    "\n",
    "rmse = np.sqrt(((y_train - y_train_predicted)**2).mean())\n",
    "print(rmse)"
   ]
  },
  {
   "cell_type": "code",
   "execution_count": 30,
   "id": "08619c54",
   "metadata": {},
   "outputs": [],
   "source": [
    "order = np.argsort(lr3.coef_)"
   ]
  },
  {
   "cell_type": "code",
   "execution_count": 31,
   "id": "c845fadb",
   "metadata": {},
   "outputs": [
    {
     "data": {
      "text/plain": [
       "array(['bedrooms', 'bathrooms', 'sqft_lot', 'floors', 'waterfront',\n",
       "       'view', 'condition', 'grade', 'sqft_above', 'sqft_basement',\n",
       "       'sqft_living15', 'sqft_lot15', 'Years_old', 'Years_since_renov'],\n",
       "      dtype=object)"
      ]
     },
     "execution_count": 31,
     "metadata": {},
     "output_type": "execute_result"
    }
   ],
   "source": [
    "lr3.feature_names_in_"
   ]
  },
  {
   "cell_type": "code",
   "execution_count": 32,
   "id": "31b51a84",
   "metadata": {},
   "outputs": [
    {
     "name": "stdout",
     "output_type": "stream",
     "text": [
      "bedrooms -8716.26862982433\n",
      "sqft_lot15 -7653.479756980899\n",
      "Years_since_renov -4730.005260573467\n",
      "waterfront 5051.325434824231\n",
      "sqft_lot 6360.255947737587\n",
      "condition 10270.91965291056\n",
      "view 10998.958765550324\n",
      "bathrooms 19165.74219741659\n",
      "floors 25575.192958506832\n",
      "sqft_living15 31030.72270486742\n",
      "sqft_basement 33624.54055212646\n",
      "sqft_above 37877.88062522512\n",
      "Years_old 79542.34763792576\n",
      "grade 90776.54417069464\n"
     ]
    }
   ],
   "source": [
    "for coef, name in zip(lr3.coef_[order], lr3.feature_names_in_[order]):\n",
    "    print(name, coef)"
   ]
  },
  {
   "cell_type": "code",
   "execution_count": null,
   "id": "f64ed240",
   "metadata": {},
   "outputs": [],
   "source": []
  }
 ],
 "metadata": {
  "kernelspec": {
   "display_name": "Python 3 (ipykernel)",
   "language": "python",
   "name": "python3"
  },
  "language_info": {
   "codemirror_mode": {
    "name": "ipython",
    "version": 3
   },
   "file_extension": ".py",
   "mimetype": "text/x-python",
   "name": "python",
   "nbconvert_exporter": "python",
   "pygments_lexer": "ipython3",
   "version": "3.11.4"
  }
 },
 "nbformat": 4,
 "nbformat_minor": 5
}
