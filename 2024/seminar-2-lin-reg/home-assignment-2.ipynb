{
 "cells": [
  {
   "cell_type": "markdown",
   "id": "a17b492d",
   "metadata": {},
   "source": [
    "# Домашнее задание 2.\n",
    "\n",
    "- Влияние стандартизации признаков на модель линейной регрессии\n",
    "- Интерпретация модели линейной регрессии \n",
    "\n",
    "В качестве набора данных мы будем пользоваться данными о стоимости домов в King County, Wahington, USA. Перед вами стоит задача предсказания стоимости дома."
   ]
  },
  {
   "cell_type": "markdown",
   "id": "ff5ecfce",
   "metadata": {},
   "source": [
    "## 1. Обучите линейную модель\n",
    "\n",
    "1. Для обучения используйте только набор данных `kc_house_data_train.csv`, набором данных `kc_house_data_test.csv` вы воспользуетесь в самом конце для тестирования качества.\n",
    "\n",
    "2. Разбейте выборку `kc_house_data_train.csv` на тренировочную и валидационную в отношении 7:3. Используйте `sklearn.model_selection.train_test_split`. Исключите из рассмотрения столбцы `id`, `zipcode`, `lat`, `long`.\n",
    "\n",
    "3. Обучите линейную модель `sklearn.linear_model.LinearRegression` (с параметрами по умолчанию) на предсказание столбца `price`.  - Чему равно качество такой модели в терминах Mean Squared Error на тренировочной и валидационной выборке?\n",
    "- Какие признаки имеют наибольший положительный и отрицательный вес? Насколько это согласуется с вашей интуицией?\n"
   ]
  },
  {
   "cell_type": "code",
   "execution_count": 1,
   "id": "34bbf5c3",
   "metadata": {},
   "outputs": [],
   "source": [
    "import pandas as pd"
   ]
  },
  {
   "cell_type": "code",
   "execution_count": 4,
   "id": "b5d8dde7",
   "metadata": {},
   "outputs": [],
   "source": [
    "pd.options.display.max_columns=30"
   ]
  },
  {
   "cell_type": "code",
   "execution_count": 6,
   "id": "f4ed5304",
   "metadata": {},
   "outputs": [
    {
     "data": {
      "text/html": [
       "<div>\n",
       "<style scoped>\n",
       "    .dataframe tbody tr th:only-of-type {\n",
       "        vertical-align: middle;\n",
       "    }\n",
       "\n",
       "    .dataframe tbody tr th {\n",
       "        vertical-align: top;\n",
       "    }\n",
       "\n",
       "    .dataframe thead th {\n",
       "        text-align: right;\n",
       "    }\n",
       "</style>\n",
       "<table border=\"1\" class=\"dataframe\">\n",
       "  <thead>\n",
       "    <tr style=\"text-align: right;\">\n",
       "      <th></th>\n",
       "      <th>id</th>\n",
       "      <th>date</th>\n",
       "      <th>price</th>\n",
       "      <th>bedrooms</th>\n",
       "      <th>bathrooms</th>\n",
       "      <th>sqft_living</th>\n",
       "      <th>sqft_lot</th>\n",
       "      <th>floors</th>\n",
       "      <th>waterfront</th>\n",
       "      <th>view</th>\n",
       "      <th>condition</th>\n",
       "      <th>grade</th>\n",
       "      <th>sqft_above</th>\n",
       "      <th>sqft_basement</th>\n",
       "      <th>yr_built</th>\n",
       "      <th>yr_renovated</th>\n",
       "      <th>zipcode</th>\n",
       "      <th>lat</th>\n",
       "      <th>long</th>\n",
       "      <th>sqft_living15</th>\n",
       "      <th>sqft_lot15</th>\n",
       "    </tr>\n",
       "  </thead>\n",
       "  <tbody>\n",
       "    <tr>\n",
       "      <th>21162</th>\n",
       "      <td>8691440440</td>\n",
       "      <td>20141003T000000</td>\n",
       "      <td>882990.0</td>\n",
       "      <td>4</td>\n",
       "      <td>3.50</td>\n",
       "      <td>3560</td>\n",
       "      <td>6562</td>\n",
       "      <td>2.0</td>\n",
       "      <td>0</td>\n",
       "      <td>0</td>\n",
       "      <td>3</td>\n",
       "      <td>10</td>\n",
       "      <td>3560</td>\n",
       "      <td>0</td>\n",
       "      <td>2014</td>\n",
       "      <td>0</td>\n",
       "      <td>98075</td>\n",
       "      <td>47.5929</td>\n",
       "      <td>-121.974</td>\n",
       "      <td>3710</td>\n",
       "      <td>6562</td>\n",
       "    </tr>\n",
       "    <tr>\n",
       "      <th>16877</th>\n",
       "      <td>2725069108</td>\n",
       "      <td>20140805T000000</td>\n",
       "      <td>750000.0</td>\n",
       "      <td>3</td>\n",
       "      <td>3.25</td>\n",
       "      <td>4610</td>\n",
       "      <td>81935</td>\n",
       "      <td>2.0</td>\n",
       "      <td>0</td>\n",
       "      <td>0</td>\n",
       "      <td>4</td>\n",
       "      <td>9</td>\n",
       "      <td>4610</td>\n",
       "      <td>0</td>\n",
       "      <td>1984</td>\n",
       "      <td>0</td>\n",
       "      <td>98074</td>\n",
       "      <td>47.6217</td>\n",
       "      <td>-122.021</td>\n",
       "      <td>2900</td>\n",
       "      <td>43500</td>\n",
       "    </tr>\n",
       "    <tr>\n",
       "      <th>16116</th>\n",
       "      <td>8026200080</td>\n",
       "      <td>20140715T000000</td>\n",
       "      <td>372000.0</td>\n",
       "      <td>4</td>\n",
       "      <td>1.75</td>\n",
       "      <td>1890</td>\n",
       "      <td>10550</td>\n",
       "      <td>1.0</td>\n",
       "      <td>0</td>\n",
       "      <td>0</td>\n",
       "      <td>5</td>\n",
       "      <td>7</td>\n",
       "      <td>1010</td>\n",
       "      <td>880</td>\n",
       "      <td>1969</td>\n",
       "      <td>0</td>\n",
       "      <td>98056</td>\n",
       "      <td>47.5147</td>\n",
       "      <td>-122.193</td>\n",
       "      <td>1930</td>\n",
       "      <td>7291</td>\n",
       "    </tr>\n",
       "  </tbody>\n",
       "</table>\n",
       "</div>"
      ],
      "text/plain": [
       "               id             date     price  bedrooms  bathrooms  \\\n",
       "21162  8691440440  20141003T000000  882990.0         4       3.50   \n",
       "16877  2725069108  20140805T000000  750000.0         3       3.25   \n",
       "16116  8026200080  20140715T000000  372000.0         4       1.75   \n",
       "\n",
       "       sqft_living  sqft_lot  floors  waterfront  view  condition  grade  \\\n",
       "21162         3560      6562     2.0           0     0          3     10   \n",
       "16877         4610     81935     2.0           0     0          4      9   \n",
       "16116         1890     10550     1.0           0     0          5      7   \n",
       "\n",
       "       sqft_above  sqft_basement  yr_built  yr_renovated  zipcode      lat  \\\n",
       "21162        3560              0      2014             0    98075  47.5929   \n",
       "16877        4610              0      1984             0    98074  47.6217   \n",
       "16116        1010            880      1969             0    98056  47.5147   \n",
       "\n",
       "          long  sqft_living15  sqft_lot15  \n",
       "21162 -121.974           3710        6562  \n",
       "16877 -122.021           2900       43500  \n",
       "16116 -122.193           1930        7291  "
      ]
     },
     "execution_count": 6,
     "metadata": {},
     "output_type": "execute_result"
    }
   ],
   "source": [
    "pd.read_csv('kc_house_data_train.csv', index_col=0).head(3)"
   ]
  },
  {
   "cell_type": "code",
   "execution_count": null,
   "id": "f550a3a2",
   "metadata": {},
   "outputs": [],
   "source": []
  },
  {
   "cell_type": "markdown",
   "id": "d3e41bb0",
   "metadata": {},
   "source": [
    "## 2. Стандартизация признаков\n",
    "\n",
    "Поскольку в линейной модели мы ищем целевую характеристику ввиде линейной комбинации признаков, то мы бы хотели чтобы величины признаков измерялись в сопоставимых масштабах. Сравните различные подходы к стандартизации признаков:\n",
    "\n",
    "1. Стандартизация или z-scoring: (x - mean(x)) / std(x). Среднее каждого признака становится равно 0, стандартное отклонение становится равно 1.\n",
    "2. Нормализация к [0, 1]: (x - min(x)) / (max(x) - min(x))\n",
    "3. Логарифмирование: log(x + 1). Потенциальным недостатком первых двух подходов является необходимость подсчета статистик на тренировочной выборке и применение их на тестовой.\n",
    "\n",
    "Обратите внимание что подсчет всех статистик mean, std, min, max должен производиться на тренировочной части данных и применяться к тестовой (потому что на практике у вас нет никакой статистики на этапе предсказание, вы делаете предсказание для конкретного 1ого дома).\n",
    "\n",
    "Воспользуйтесь методами `sklearn.preprocessing.StandardScaler` и `sklearn.preprocessing.MinMaxScaler`. Обучайте модель линейной регрессии на тренировочной части данных, делайте предсказание и оценивайте качество на валидационной.\n",
    "\n",
    "4. Какой из подходов дает наилучшее качество (включая отсутствие какой бы то нибыло стандартизации данных)?\n",
    "5. Как меняются веса признаков в линейной модели при применении различных видов стандартизации?"
   ]
  },
  {
   "cell_type": "code",
   "execution_count": null,
   "id": "dd7f63d0",
   "metadata": {},
   "outputs": [],
   "source": []
  },
  {
   "cell_type": "markdown",
   "id": "cceeafa7",
   "metadata": {},
   "source": [
    "## 3. Отбор признаков\n",
    "\n",
    "1. Воспользуйтесь методом `sklearn.feature_selection.RFE` для отбора 5 наиболее важных признаков. \n",
    "- сравните как меняется результат для 3 подходов к стандартизации признаков и для случая без нормировки\n",
    "- в рамках каждого подхода сравните отобранные 10 признаков с 10 признаками имеющими наибольшую важность для базовой модели (обученной на всех данных). Подготовьте таблицу важности признаков, в которой каждый столбец соответствует какому-то методу нормировки данных. Сравните какие признаки оказываются важными в разных сценариях. Прокомментируйте полученный результат.\n",
    "\n",
    "|LR|LR-standartized|LR-normalized|LR-log|LR-standartized-RFE|LR-normalized-RFE|LR-log-RFE|\n",
    "\n",
    "2. Оцените качество каждой из 7 обученных моделей на тестовой части данных `kc_house_data_test.csv` не забудьте применить соответствующие преобразования (стандартизация и пр). Совпадают ли лучшая модель на валидации и на тесте?"
   ]
  },
  {
   "cell_type": "code",
   "execution_count": null,
   "id": "5ed2c7ee",
   "metadata": {},
   "outputs": [],
   "source": []
  },
  {
   "cell_type": "code",
   "execution_count": null,
   "id": "96d3488f",
   "metadata": {},
   "outputs": [],
   "source": []
  },
  {
   "cell_type": "markdown",
   "id": "38ca8def",
   "metadata": {},
   "source": [
    "## Подготовьте репорт о выполненном домашнем задании\n",
    "\n",
    "Подготовьте текстовый репорт о выполенном домашнем задании. \n",
    "\n",
    "Вы можете вставлять в текст таблицы и/или графики на ваше усмотрение, текст репорта должен быть в двухколоночном формате не более 2 страниц 12 кеглем Times New Roman (крайне желательно 1 страница), см. шаблон https://docs.google.com/document/d/1YqnO0OFbTR7XgzmdWryQF22J1kl9Fg7hSlNbqa6Jbiw/edit?usp=sharing\n",
    "\n",
    "Подготовленный репорт и jupyter notebook c вашим решением необходимо отправить на почту kurmukovai@gmail.com, с темой письма [iitp-intro-ds-2023-ha2-Surname], например [iitp-intro-ds-2023-ha2-Kurmukov] до 23:59:59 МСК 04.03.2023."
   ]
  },
  {
   "cell_type": "code",
   "execution_count": null,
   "id": "2be05870",
   "metadata": {},
   "outputs": [],
   "source": []
  }
 ],
 "metadata": {
  "kernelspec": {
   "display_name": "Python 3 (ipykernel)",
   "language": "python",
   "name": "python3"
  },
  "language_info": {
   "codemirror_mode": {
    "name": "ipython",
    "version": 3
   },
   "file_extension": ".py",
   "mimetype": "text/x-python",
   "name": "python",
   "nbconvert_exporter": "python",
   "pygments_lexer": "ipython3",
   "version": "3.9.13"
  }
 },
 "nbformat": 4,
 "nbformat_minor": 5
}
