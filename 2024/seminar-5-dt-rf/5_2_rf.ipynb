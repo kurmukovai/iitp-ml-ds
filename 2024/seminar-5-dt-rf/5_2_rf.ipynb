{
 "cells": [
  {
   "cell_type": "markdown",
   "metadata": {},
   "source": [
    "Случайный лес: ансамбли деревьев = бэггинг фичей и объектов + блендинг"
   ]
  },
  {
   "cell_type": "code",
   "execution_count": null,
   "metadata": {},
   "outputs": [],
   "source": [
    "from sklearn.tree import DecisionTreeClassifier\n",
    "from sklearn.metrics import accuracy_score\n",
    "from sklearn.datasets import load_digits\n",
    "from sklearn.model_selection import KFold, cross_val_score, train_test_split\n",
    "from tqdm import tqdm_notebook\n",
    "\n",
    "import warnings\n",
    "warnings.filterwarnings('ignore')\n",
    "\n",
    "import matplotlib.pyplot as plt\n",
    "%matplotlib inline"
   ]
  },
  {
   "cell_type": "markdown",
   "metadata": {},
   "source": [
    "![ensemble_idea](forrest_idea.png)"
   ]
  },
  {
   "cell_type": "code",
   "execution_count": null,
   "metadata": {},
   "outputs": [],
   "source": [
    "X, y = load_digits(n_class=10, return_X_y=True)"
   ]
  },
  {
   "cell_type": "code",
   "execution_count": null,
   "metadata": {},
   "outputs": [],
   "source": [
    "X.shape"
   ]
  },
  {
   "cell_type": "markdown",
   "metadata": {},
   "source": [
    "## 1. Случайные подмножества признаков"
   ]
  },
  {
   "cell_type": "code",
   "execution_count": null,
   "metadata": {
    "scrolled": false
   },
   "outputs": [],
   "source": [
    "predict_proba_models = []\n",
    "\n",
    "X_train, X_test, y_train, y_test = train_test_split(X, y,\n",
    "                                                    test_size=0.33,\n",
    "                                                    random_state=1)\n",
    "\n",
    "for state in range(5):\n",
    "    \n",
    "    model = DecisionTreeClassifier(max_features=4,\n",
    "                                   max_depth=2,\n",
    "                                   random_state=state)\n",
    "\n",
    "    model.fit(X_train, y_train)\n",
    "    y_pred = model.predict_proba(X_test)\n",
    "    predict_proba_models.append(y_pred)\n",
    "\n",
    "    y_pred = model.predict(X_test)\n",
    "\n",
    "    print('Точность классификатора: {:.3f}'.format(accuracy_score(y_test, y_pred)))\n",
    "    print('Признаки по которым проходило разделение: {}'.format(np.nonzero(model.feature_importances_)))\n",
    "    print('\\n-------\\n')"
   ]
  },
  {
   "cell_type": "code",
   "execution_count": null,
   "metadata": {},
   "outputs": [],
   "source": []
  },
  {
   "cell_type": "code",
   "execution_count": null,
   "metadata": {},
   "outputs": [],
   "source": [
    "predict_proba_models = np.array(predict_proba_models)\n",
    "\n",
    "print(predict_proba_models.shape)\n",
    "\n",
    "mean_predict_proba = predict_proba_models.sum(axis=0) / 5\n",
    "mean_predict = np.argmax(mean_predict_proba, axis=1)\n",
    "\n",
    "print(accuracy_score(y_test, mean_predict))"
   ]
  },
  {
   "cell_type": "code",
   "execution_count": null,
   "metadata": {},
   "outputs": [],
   "source": []
  },
  {
   "cell_type": "code",
   "execution_count": null,
   "metadata": {},
   "outputs": [],
   "source": []
  },
  {
   "cell_type": "markdown",
   "metadata": {},
   "source": [
    "## 2. Случайные подмножества объектов"
   ]
  },
  {
   "cell_type": "code",
   "execution_count": null,
   "metadata": {},
   "outputs": [],
   "source": [
    "predict_proba_models = []\n",
    "\n",
    "\n",
    "X_train, X_test, y_train, y_test = train_test_split(X, y,\n",
    "                                                    test_size=0.33,\n",
    "                                                    random_state=1)\n",
    "\n",
    "def bootstrap_indices(random_state, n_samples):\n",
    "    \"\"\"Private function used to _parallel_build_trees function.\"\"\"\n",
    "    random_instance = np.random.RandomState(random_state)\n",
    "    sample_indices = random_instance.randint(0, n_samples, n_samples)\n",
    "\n",
    "    return sample_indices\n",
    "\n",
    "for state in range(5):\n",
    "   \n",
    "    ind = bootstrap_indices(state, X_train.shape[0])\n",
    "    X_train_, y_train_ = X_train[ind], y_train[ind]\n",
    "    \n",
    "    model = DecisionTreeClassifier(max_features=4,\n",
    "                                   max_depth=2,\n",
    "                                   random_state=2)\n",
    "\n",
    "    model.fit(X_train_, y_train_)\n",
    "    y_pred = model.predict_proba(X_test)\n",
    "    \n",
    "    predict_proba_models.append(y_pred)\n",
    "    \n",
    "    y_pred = model.predict(X_test)\n",
    "    print('Точность классификатора: {:.3f}'.format(accuracy_score(y_test, y_pred)))\n",
    "    print('Признаки по которым проходило разделение: {}'.format(np.nonzero(model.feature_importances_)))\n",
    "    print('\\n-------\\n')"
   ]
  },
  {
   "cell_type": "code",
   "execution_count": null,
   "metadata": {},
   "outputs": [],
   "source": [
    "predict_proba_models = np.array(predict_proba_models)\n",
    "\n",
    "print(predict_proba_models.shape)\n",
    "\n",
    "mean_predict_proba = predict_proba_models.sum(axis=0) / 5\n",
    "mean_predict = np.argmax(mean_predict_proba, axis=1)\n",
    "\n",
    "print(accuracy_score(y_test, mean_predict))"
   ]
  },
  {
   "cell_type": "code",
   "execution_count": null,
   "metadata": {},
   "outputs": [],
   "source": []
  },
  {
   "cell_type": "code",
   "execution_count": null,
   "metadata": {},
   "outputs": [],
   "source": []
  },
  {
   "cell_type": "markdown",
   "metadata": {},
   "source": [
    "## 3. Случайные признаки + Сэмплинг данных"
   ]
  },
  {
   "cell_type": "code",
   "execution_count": null,
   "metadata": {},
   "outputs": [],
   "source": [
    "X_train, X_test, y_train, y_test = train_test_split(X,\n",
    "                                                    y,\n",
    "                                                    test_size=0.33,\n",
    "                                                    random_state=1)\n",
    "\n",
    "#-------------------------------------------------------------------------------------------\n",
    "# TRAINING\n",
    "\n",
    "models = []\n",
    "rs = list(range(5))\n",
    "\n",
    "for state in rs:\n",
    "    \n",
    "    ind = bootstrap_indices(state, X_train.shape[0])\n",
    "    X_train_, y_train_ = X_train[ind], y_train[ind]\n",
    "    \n",
    "    model = DecisionTreeClassifier(max_features=32,\n",
    "                                   splitter = 'best',\n",
    "                                   max_depth=4,\n",
    "                                   random_state=state+10)\n",
    "\n",
    "    model.fit(X_train_, y_train_)    \n",
    "    models.append(model)\n",
    "\n",
    "    \n",
    "#-------------------------------------------------------------------------------------------\n",
    "# PREDICTION\n",
    "\n",
    "predict_proba_models = []\n",
    "\n",
    "\n",
    "for model in models:\n",
    "\n",
    "    y_pred = model.predict_proba(X_test)\n",
    "    predict_proba_models.append(y_pred)\n",
    "    y_pred = model.predict(X_test)\n",
    "\n",
    "    print('Точность классификатора: {:.3f}'.format(accuracy_score(y_test, y_pred)))\n",
    "    \n",
    "    \n",
    "predict_proba_models = np.array(predict_proba_models)\n",
    "\n",
    "print(predict_proba_models.shape)\n",
    "\n",
    "mean_predict_proba = predict_proba_models.sum(axis=0) / 5\n",
    "mean_predict = np.argmax(mean_predict_proba, axis=1)\n",
    "\n",
    "print(accuracy_score(y_test, mean_predict))"
   ]
  },
  {
   "cell_type": "code",
   "execution_count": null,
   "metadata": {},
   "outputs": [],
   "source": []
  },
  {
   "cell_type": "code",
   "execution_count": null,
   "metadata": {},
   "outputs": [],
   "source": []
  },
  {
   "cell_type": "markdown",
   "metadata": {},
   "source": [
    "## 4. Случайный лес "
   ]
  },
  {
   "cell_type": "code",
   "execution_count": null,
   "metadata": {},
   "outputs": [],
   "source": []
  },
  {
   "cell_type": "code",
   "execution_count": null,
   "metadata": {},
   "outputs": [],
   "source": [
    "from sklearn.ensemble import RandomForestClassifier"
   ]
  },
  {
   "cell_type": "code",
   "execution_count": null,
   "metadata": {},
   "outputs": [],
   "source": [
    "X_train, X_test, y_train, y_test = train_test_split(X, y, test_size=0.33, random_state=1)\n",
    "\n",
    "model = RandomForestClassifier(n_estimators=5,\n",
    "                               max_features=32,\n",
    "                               max_depth=4,\n",
    "                               random_state=1) \n",
    "\n",
    "model.fit(X_train, y_train)\n",
    "y_pred = model.predict(X_test)\n",
    "\n",
    "print(accuracy_score(y_test, y_pred))"
   ]
  },
  {
   "cell_type": "code",
   "execution_count": null,
   "metadata": {},
   "outputs": [],
   "source": [
    "rs = []\n",
    "for m in model.estimators_:\n",
    "    rs.append(m.random_state)"
   ]
  },
  {
   "cell_type": "code",
   "execution_count": null,
   "metadata": {},
   "outputs": [],
   "source": [
    "rs"
   ]
  },
  {
   "cell_type": "code",
   "execution_count": null,
   "metadata": {},
   "outputs": [],
   "source": [
    "model.estimators_"
   ]
  },
  {
   "cell_type": "code",
   "execution_count": null,
   "metadata": {},
   "outputs": [],
   "source": []
  },
  {
   "cell_type": "code",
   "execution_count": null,
   "metadata": {},
   "outputs": [],
   "source": [
    "# from sklearn.tree import export_graphviz\n",
    "\n",
    "# for est,i in zip(model.estimators_,range(5)):\n",
    "#     export_graphviz(est, out_file='tree{}.dot'.format(i), filled=True)"
   ]
  },
  {
   "cell_type": "code",
   "execution_count": null,
   "metadata": {},
   "outputs": [],
   "source": [
    "# !dot -Tpng 'tree0.dot' -o 'tree0.png'"
   ]
  },
  {
   "cell_type": "code",
   "execution_count": null,
   "metadata": {},
   "outputs": [],
   "source": []
  },
  {
   "cell_type": "code",
   "execution_count": null,
   "metadata": {},
   "outputs": [],
   "source": []
  },
  {
   "cell_type": "code",
   "execution_count": null,
   "metadata": {},
   "outputs": [],
   "source": []
  },
  {
   "cell_type": "markdown",
   "metadata": {},
   "source": [
    "### 4.1. Параметры Случайного леса: число деревьев"
   ]
  },
  {
   "cell_type": "code",
   "execution_count": null,
   "metadata": {},
   "outputs": [],
   "source": []
  },
  {
   "cell_type": "code",
   "execution_count": null,
   "metadata": {},
   "outputs": [],
   "source": [
    "X_train.shape"
   ]
  },
  {
   "cell_type": "code",
   "execution_count": null,
   "metadata": {},
   "outputs": [],
   "source": [
    "X_test.shape"
   ]
  },
  {
   "cell_type": "code",
   "execution_count": null,
   "metadata": {},
   "outputs": [],
   "source": [
    "acc_train = []\n",
    "acc_test = []\n",
    "\n",
    "for n in tqdm_notebook(range(1,100,2)):\n",
    "    \n",
    "    model = RandomForestClassifier(n_estimators=n,\n",
    "                                   max_features=4,\n",
    "                                   max_depth=2,\n",
    "                                   random_state=1, n_jobs=-1) \n",
    "    model.fit(X_train, y_train)\n",
    "    \n",
    "    y_pred = model.predict(X_test)\n",
    "\n",
    "    acc_train.append(accuracy_score(y_train, model.predict(X_train)))\n",
    "    acc_test.append(accuracy_score(y_test, y_pred))"
   ]
  },
  {
   "cell_type": "code",
   "execution_count": null,
   "metadata": {},
   "outputs": [],
   "source": [
    "plt.rc('font', **{'size':20})\n",
    "\n",
    "plt.figure(figsize=(10,5))\n",
    "plt.plot(list(range(1,100,2)), 1-np.array(acc_train), c='r', label='Train error')\n",
    "plt.plot(list(range(1,100,2)), 1-np.array(acc_test), c='b', label='Test error')\n",
    "plt.xlabel('Число деревьев')\n",
    "plt.ylabel('Ошибка предсказания')\n",
    "plt.legend();"
   ]
  },
  {
   "cell_type": "code",
   "execution_count": null,
   "metadata": {},
   "outputs": [],
   "source": []
  },
  {
   "cell_type": "markdown",
   "metadata": {},
   "source": [
    "### 4.2. Параметры Случайного леса: глубина дерева"
   ]
  },
  {
   "cell_type": "code",
   "execution_count": null,
   "metadata": {},
   "outputs": [],
   "source": [
    "acc_train = []\n",
    "acc_test = []\n",
    "\n",
    "for n in tqdm_notebook(range(1,20,1)):\n",
    "    \n",
    "    model = RandomForestClassifier(n_estimators=5,\n",
    "                                   max_features=4,\n",
    "                                   max_depth=n,\n",
    "                                   random_state=1, n_jobs=-1) \n",
    "    model.fit(X_train, y_train)\n",
    "    \n",
    "    y_pred = model.predict(X_test)\n",
    "\n",
    "    acc_train.append(accuracy_score(y_train, model.predict(X_train)))\n",
    "    acc_test.append(accuracy_score(y_test, y_pred))"
   ]
  },
  {
   "cell_type": "code",
   "execution_count": null,
   "metadata": {},
   "outputs": [],
   "source": [
    "plt.figure(figsize=(10,5))\n",
    "plt.plot(list(range(1,20,1)), 1-np.array(acc_train), c='r', label='Train error')\n",
    "plt.plot(list(range(1,20,1)), 1-np.array(acc_test), c='b', label='Test error')\n",
    "plt.xlabel('Глубина дерева (Tree depth)')\n",
    "plt.ylabel('Ошибка предсказания')\n",
    "plt.legend();"
   ]
  },
  {
   "cell_type": "code",
   "execution_count": null,
   "metadata": {},
   "outputs": [],
   "source": []
  },
  {
   "cell_type": "markdown",
   "metadata": {},
   "source": [
    "### 4.3. Параметры Случайного леса: количество признаков"
   ]
  },
  {
   "cell_type": "code",
   "execution_count": null,
   "metadata": {},
   "outputs": [],
   "source": []
  },
  {
   "cell_type": "code",
   "execution_count": null,
   "metadata": {},
   "outputs": [],
   "source": [
    "acc_train = []\n",
    "acc_test = []\n",
    "\n",
    "for n in tqdm_notebook(range(1,64)):\n",
    "    \n",
    "    model = RandomForestClassifier(n_estimators=15,\n",
    "                                   max_features=n,\n",
    "                                   max_depth=2,\n",
    "                                   random_state=1, n_jobs=-1) \n",
    "    model.fit(X_train, y_train)\n",
    "    \n",
    "    y_pred = model.predict(X_test)\n",
    "\n",
    "    acc_train.append(accuracy_score(y_train, model.predict(X_train)))\n",
    "    acc_test.append(accuracy_score(y_test, y_pred))"
   ]
  },
  {
   "cell_type": "code",
   "execution_count": null,
   "metadata": {},
   "outputs": [],
   "source": [
    "plt.figure(figsize=(10,5))\n",
    "plt.plot(list(range(1,64)), 1-np.array(acc_train), c='r', label='Train error')\n",
    "plt.plot(list(range(1,64)), 1-np.array(acc_test), c='b', label='Test error')\n",
    "\n",
    "plt.legend();"
   ]
  },
  {
   "cell_type": "code",
   "execution_count": null,
   "metadata": {},
   "outputs": [],
   "source": []
  },
  {
   "cell_type": "code",
   "execution_count": null,
   "metadata": {},
   "outputs": [],
   "source": []
  },
  {
   "cell_type": "markdown",
   "metadata": {},
   "source": [
    "## Деревья на случайных признаках\n",
    "\n",
    "выбор признака в узле с вероятностью, зачем?"
   ]
  },
  {
   "cell_type": "markdown",
   "metadata": {},
   "source": [
    "Ответ- помогает сильно скорелированным признакам\n",
    "получить +- одинаковый вес (если брать аргмакс то какой то признак может сильно просесть)"
   ]
  },
  {
   "cell_type": "code",
   "execution_count": null,
   "metadata": {},
   "outputs": [],
   "source": []
  },
  {
   "cell_type": "code",
   "execution_count": null,
   "metadata": {},
   "outputs": [],
   "source": [
    "from sklearn.ensemble import ExtraTreesClassifier"
   ]
  },
  {
   "cell_type": "code",
   "execution_count": null,
   "metadata": {},
   "outputs": [],
   "source": [
    "X_train, X_test, y_train, y_test = train_test_split(X, y, test_size=0.33, random_state=1)\n",
    "\n",
    "model = ExtraTreesClassifier(n_estimators=5, max_features=4, max_depth=2, random_state=1, bootstrap=True) \n",
    "\n",
    "model.fit(X_train, y_train)\n",
    "y_pred = model.predict(X_test)\n",
    "\n",
    "print(accuracy_score(y_test, y_pred))"
   ]
  },
  {
   "cell_type": "code",
   "execution_count": null,
   "metadata": {},
   "outputs": [],
   "source": []
  }
 ],
 "metadata": {
  "kernelspec": {
   "display_name": "Python 3 (ipykernel)",
   "language": "python",
   "name": "python3"
  },
  "language_info": {
   "codemirror_mode": {
    "name": "ipython",
    "version": 3
   },
   "file_extension": ".py",
   "mimetype": "text/x-python",
   "name": "python",
   "nbconvert_exporter": "python",
   "pygments_lexer": "ipython3",
   "version": "3.11.4"
  }
 },
 "nbformat": 4,
 "nbformat_minor": 2
}
