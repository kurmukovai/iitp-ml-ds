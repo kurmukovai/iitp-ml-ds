{
 "cells": [
  {
   "cell_type": "markdown",
   "metadata": {},
   "source": [
    "# Домашнее задание 5.\n",
    "\n",
    "Ниже приведено решение задачи Walmart TripType prediction.\n",
    "\n",
    "Сначала мы строим простую baseline модель используя алгоритм случайного леса, затем делаем Exploratory Data Analysis, и наконец генерим новый набор признаков и на нем обучаем алгоритм градиентного бустинга.\n",
    "\n",
    "Разберитесь в этом нотбуке: \n",
    "- в чем заключается задача?\n",
    "- какие признаки мы генерим?\n",
    "\n",
    "Существует 3 популярные библиотеки реализующие алгоритм градиентного бустинга:\n",
    "- xgboost https://xgboost.readthedocs.io/en/stable/python/python_intro.html\n",
    "- catboost https://catboost.ai/en/docs/concepts/python-quickstart\n",
    "- lightgbm https://lightgbm.readthedocs.io/en/latest/Python-Intro.html\n",
    "\n",
    " \n",
    "Решение отправляйте на почту kurmukovai@gmail.com, до полуночи 24 марта, 23:59:59 с темой письма [iitp-intro-ds-2024-ha5-Surname], например [iitp-intro-ds-2024-ha5-Kurmukov]\n",
    "\n",
    "* если вам нужно будет обработать пропуски (missing values) обрабатывайте их любым разумным образом (см. семинар 3)\n",
    "* все 3 библиотеки умеют работать с категориальным переменными \"из коробки\":\n",
    "- https://xgboost.readthedocs.io/en/stable/tutorials/categorical.html\n",
    "- https://lightgbm.readthedocs.io/en/latest/Advanced-Topics.html\n",
    "\n",
    "возможно необходимо строковые признаки закодировать в числа 1..n ."
   ]
  },
  {
   "cell_type": "code",
   "execution_count": null,
   "metadata": {},
   "outputs": [],
   "source": []
  },
  {
   "cell_type": "markdown",
   "metadata": {},
   "source": [
    "# п. 1-5 смотрите ниже\n",
    "\n",
    "\n",
    "Данные без пароля можно скачать тут https://disk.yandex.ru/d/xTXpgXJwiWyYSQ\n",
    "\n",
    "Ниже предложено два baseline решения, изучите их прежде чем переходить к разделам 6-7.\n",
    "\n",
    "\n",
    "# 6. Вопросы про данные\n",
    "\n",
    "В вопросах про данные используйте выборку `train.csv`\n",
    "\n",
    "1. Сколько всего уникальных типов покупок (TripType) в данной задаче?\n",
    "2. В какой день недели совершается больше всего покупок?\n",
    "3. Какой мультиклассовой точности соответствует логлосс 0.997 в данной задаче?\n",
    "4. Опишите качественно самый частый и самый редкий типы покупок в данных: в какой день они происходят, каким категорям товаров соответствуют, какой в них средний размер чека (количество позиций) и т.д.\n",
    "\n",
    "\n",
    "# 7. Compare `xgboost`, `catboost` and `lightgbm`\n",
    "\n",
    "Ваша задача состоит в том чтобы познакомиться с 3 имплементациями градиентного бустинга. Перед вами нет задачи выбить \"наилучшее\" качество. \n",
    "\n",
    "1. Отредактируйте п.4. Разделите данные `train.csv` на тренировочную и тестовую выборки в отношении 8 к 2.\n",
    "\n",
    "2. Запустите модели `xgboost`, `lightgbm` и `catboost` с гиперпараметрами предложенными выше для `catboost`:\n",
    "```\n",
    "ctb_params = {\n",
    "    'depth': 4,\n",
    "    'learning_rate': .3,\n",
    "    'loss_function': 'MultiClass',\n",
    "    'iterations': 100\n",
    "}\n",
    "```\n",
    "остальные гиперпараметры моделей используйте \"по умолчанию\". Сравните качество полученных моделей на \"внутренней\" тестовой выборке из вопроса 1 в терминах логистического лосса и в терминах мультиклассовой точности (multi-class accuracy).\n",
    "\n",
    "3. Перечислите какие гиперпараметры для регуляризации существуют в трех имплементациях градиентного бустинга. Какие из них повторяются, а какие отличаются?\n",
    "\n",
    "4. Повторите п.2, но теперь в качестве гиперпараметров в моделях используйте параметры по-умолчанию из `lightgbm`:\n",
    "`num_leaves`, `learning_rate`, `n_estimators`. Сравните результаты с результатами из вопроса 2. \n",
    "\n",
    "5. (по возможности) сделайте предсказание лучшей из моделей на тестовой выборке (test.csv) для которой у вас нет столбца `TripType`, засабмитьте результат на kaggle и сравните оценки logloss между внутренним и отложенным тестом, прокомментируйте результат.\n"
   ]
  },
  {
   "cell_type": "code",
   "execution_count": null,
   "metadata": {},
   "outputs": [],
   "source": []
  },
  {
   "cell_type": "code",
   "execution_count": null,
   "metadata": {},
   "outputs": [],
   "source": []
  },
  {
   "cell_type": "markdown",
   "metadata": {},
   "source": [
    "# Walmart TripType prediction\n",
    "\n",
    "https://www.kaggle.com/c/walmart-recruiting-trip-type-classification\n",
    "\n",
    ">For this competition, you are tasked with categorizing shopping trip types based on the items that customers purchased. To give a few hypothetical examples of trip types: a customer may make a small daily dinner trip, a weekly large grocery trip, a trip to buy gifts for an upcoming holiday, or a seasonal trip to buy clothes.\n",
    "\n",
    "\n",
    "## Multi-class classification, goal is to predict `type of the trip`."
   ]
  },
  {
   "cell_type": "code",
   "execution_count": 8,
   "metadata": {},
   "outputs": [
    {
     "name": "stdout",
     "output_type": "stream",
     "text": [
      "Archive:  train.csv.zip\n",
      "  inflating: train.csv               \n"
     ]
    }
   ],
   "source": [
    "# !kaggle competitions download -c walmart-recruiting-trip-type-classification\n",
    "# !unzip walmart-recruiting-trip-type-classification.zip\n",
    "# !unzip train.csv.zip"
   ]
  },
  {
   "cell_type": "code",
   "execution_count": 5,
   "metadata": {},
   "outputs": [],
   "source": [
    "import pandas as pd\n",
    "import numpy as np\n",
    "import matplotlib.pyplot as plt\n",
    "import seaborn as sns\n",
    "%matplotlib inline"
   ]
  },
  {
   "cell_type": "code",
   "execution_count": 9,
   "metadata": {},
   "outputs": [],
   "source": [
    "train = pd.read_csv('train.csv')\n",
    "# test = pd.read_csv('walmart-recruiting-trip-type-classification/test.csv')"
   ]
  },
  {
   "cell_type": "code",
   "execution_count": 10,
   "metadata": {},
   "outputs": [
    {
     "data": {
      "text/html": [
       "<div>\n",
       "<style scoped>\n",
       "    .dataframe tbody tr th:only-of-type {\n",
       "        vertical-align: middle;\n",
       "    }\n",
       "\n",
       "    .dataframe tbody tr th {\n",
       "        vertical-align: top;\n",
       "    }\n",
       "\n",
       "    .dataframe thead th {\n",
       "        text-align: right;\n",
       "    }\n",
       "</style>\n",
       "<table border=\"1\" class=\"dataframe\">\n",
       "  <thead>\n",
       "    <tr style=\"text-align: right;\">\n",
       "      <th></th>\n",
       "      <th>TripType</th>\n",
       "      <th>VisitNumber</th>\n",
       "      <th>Weekday</th>\n",
       "      <th>Upc</th>\n",
       "      <th>ScanCount</th>\n",
       "      <th>DepartmentDescription</th>\n",
       "      <th>FinelineNumber</th>\n",
       "    </tr>\n",
       "  </thead>\n",
       "  <tbody>\n",
       "    <tr>\n",
       "      <th>0</th>\n",
       "      <td>999</td>\n",
       "      <td>5</td>\n",
       "      <td>Friday</td>\n",
       "      <td>6.811315e+10</td>\n",
       "      <td>-1</td>\n",
       "      <td>FINANCIAL SERVICES</td>\n",
       "      <td>1000.0</td>\n",
       "    </tr>\n",
       "    <tr>\n",
       "      <th>1</th>\n",
       "      <td>30</td>\n",
       "      <td>7</td>\n",
       "      <td>Friday</td>\n",
       "      <td>6.053882e+10</td>\n",
       "      <td>1</td>\n",
       "      <td>SHOES</td>\n",
       "      <td>8931.0</td>\n",
       "    </tr>\n",
       "    <tr>\n",
       "      <th>2</th>\n",
       "      <td>30</td>\n",
       "      <td>7</td>\n",
       "      <td>Friday</td>\n",
       "      <td>7.410811e+09</td>\n",
       "      <td>1</td>\n",
       "      <td>PERSONAL CARE</td>\n",
       "      <td>4504.0</td>\n",
       "    </tr>\n",
       "    <tr>\n",
       "      <th>3</th>\n",
       "      <td>26</td>\n",
       "      <td>8</td>\n",
       "      <td>Friday</td>\n",
       "      <td>2.238404e+09</td>\n",
       "      <td>2</td>\n",
       "      <td>PAINT AND ACCESSORIES</td>\n",
       "      <td>3565.0</td>\n",
       "    </tr>\n",
       "    <tr>\n",
       "      <th>4</th>\n",
       "      <td>26</td>\n",
       "      <td>8</td>\n",
       "      <td>Friday</td>\n",
       "      <td>2.006614e+09</td>\n",
       "      <td>2</td>\n",
       "      <td>PAINT AND ACCESSORIES</td>\n",
       "      <td>1017.0</td>\n",
       "    </tr>\n",
       "  </tbody>\n",
       "</table>\n",
       "</div>"
      ],
      "text/plain": [
       "   TripType  VisitNumber Weekday           Upc  ScanCount  \\\n",
       "0       999            5  Friday  6.811315e+10         -1   \n",
       "1        30            7  Friday  6.053882e+10          1   \n",
       "2        30            7  Friday  7.410811e+09          1   \n",
       "3        26            8  Friday  2.238404e+09          2   \n",
       "4        26            8  Friday  2.006614e+09          2   \n",
       "\n",
       "   DepartmentDescription  FinelineNumber  \n",
       "0     FINANCIAL SERVICES          1000.0  \n",
       "1                  SHOES          8931.0  \n",
       "2          PERSONAL CARE          4504.0  \n",
       "3  PAINT AND ACCESSORIES          3565.0  \n",
       "4  PAINT AND ACCESSORIES          1017.0  "
      ]
     },
     "execution_count": 10,
     "metadata": {},
     "output_type": "execute_result"
    }
   ],
   "source": [
    "train.head()"
   ]
  },
  {
   "cell_type": "markdown",
   "metadata": {},
   "source": [
    "### Columns description\n",
    "\n",
    "- `TripType` - a categorical id representing the type of shopping trip the customer made. This is the ground truth that you are predicting. TripType_999 is an \"other\" category.\n",
    "- `VisitNumber` - an id corresponding to a single trip by a single customer\n",
    "- `Weekday` - the weekday of the trip\n",
    "- `Upc`- the UPC number of the product purchased\n",
    "- `ScanCount` - the number of the given item that was purchased. A negative value indicates a product return.\n",
    "- `DepartmentDescription` - a high-level description of the item's department\n",
    "- `FinelineNumber` - a more refined category for each of the products, created by Walmart\n"
   ]
  },
  {
   "cell_type": "code",
   "execution_count": 11,
   "metadata": {},
   "outputs": [
    {
     "data": {
      "text/plain": [
       "(647054, 7)"
      ]
     },
     "execution_count": 11,
     "metadata": {},
     "output_type": "execute_result"
    }
   ],
   "source": [
    "train.shape"
   ]
  },
  {
   "cell_type": "code",
   "execution_count": 12,
   "metadata": {},
   "outputs": [
    {
     "data": {
      "text/plain": [
       "TripType                 647054\n",
       "VisitNumber              647054\n",
       "Weekday                  647054\n",
       "Upc                      642925\n",
       "ScanCount                647054\n",
       "DepartmentDescription    645693\n",
       "FinelineNumber           642925\n",
       "dtype: int64"
      ]
     },
     "execution_count": 12,
     "metadata": {},
     "output_type": "execute_result"
    }
   ],
   "source": [
    "train.count()"
   ]
  },
  {
   "cell_type": "code",
   "execution_count": 13,
   "metadata": {},
   "outputs": [
    {
     "data": {
      "text/plain": [
       "40     174164\n",
       "39      95504\n",
       "37      38954\n",
       "38      29565\n",
       "25      27609\n",
       "7       23199\n",
       "8       22844\n",
       "36      21990\n",
       "44      20424\n",
       "42      19468\n",
       "24      18015\n",
       "999     17590\n",
       "9       16820\n",
       "32      13843\n",
       "5       13836\n",
       "35      12501\n",
       "33       9918\n",
       "15       7147\n",
       "3        6827\n",
       "43       6383\n",
       "41       5508\n",
       "30       4861\n",
       "34       4751\n",
       "27       4613\n",
       "21       4032\n",
       "22       3592\n",
       "6        3405\n",
       "20       3116\n",
       "18       2977\n",
       "28       2664\n",
       "26       2507\n",
       "12       2108\n",
       "29       2105\n",
       "31       1765\n",
       "19       1188\n",
       "4         901\n",
       "23        325\n",
       "14         35\n",
       "Name: TripType, dtype: int64"
      ]
     },
     "execution_count": 13,
     "metadata": {},
     "output_type": "execute_result"
    }
   ],
   "source": [
    "train.TripType.value_counts()"
   ]
  },
  {
   "cell_type": "markdown",
   "metadata": {},
   "source": [
    "# 1. Understand the task.\n",
    "\n",
    "> Every single ml task has its features, and there are no universal solutions, only generally working principles.\n",
    "\n",
    "We need to predict type of the visit: `TripType`. Every row of the data table contains information about a single product not a visit, threfore we need to combine the information about the visit from all the purchases. \n",
    "\n",
    "![](trip-type.png)\n",
    "\n",
    "Unfortunately, we do not have the information about customers, so we do not know if some of the Visits were performed by the same person.\n"
   ]
  },
  {
   "cell_type": "code",
   "execution_count": 14,
   "metadata": {},
   "outputs": [
    {
     "data": {
      "text/html": [
       "<div>\n",
       "<style scoped>\n",
       "    .dataframe tbody tr th:only-of-type {\n",
       "        vertical-align: middle;\n",
       "    }\n",
       "\n",
       "    .dataframe tbody tr th {\n",
       "        vertical-align: top;\n",
       "    }\n",
       "\n",
       "    .dataframe thead th {\n",
       "        text-align: right;\n",
       "    }\n",
       "</style>\n",
       "<table border=\"1\" class=\"dataframe\">\n",
       "  <thead>\n",
       "    <tr style=\"text-align: right;\">\n",
       "      <th></th>\n",
       "      <th>TripType</th>\n",
       "      <th>VisitNumber</th>\n",
       "      <th>Weekday</th>\n",
       "      <th>Upc</th>\n",
       "      <th>ScanCount</th>\n",
       "      <th>DepartmentDescription</th>\n",
       "      <th>FinelineNumber</th>\n",
       "    </tr>\n",
       "  </thead>\n",
       "  <tbody>\n",
       "    <tr>\n",
       "      <th>0</th>\n",
       "      <td>999</td>\n",
       "      <td>5</td>\n",
       "      <td>Friday</td>\n",
       "      <td>6.811315e+10</td>\n",
       "      <td>-1</td>\n",
       "      <td>FINANCIAL SERVICES</td>\n",
       "      <td>1000.0</td>\n",
       "    </tr>\n",
       "    <tr>\n",
       "      <th>1</th>\n",
       "      <td>30</td>\n",
       "      <td>7</td>\n",
       "      <td>Friday</td>\n",
       "      <td>6.053882e+10</td>\n",
       "      <td>1</td>\n",
       "      <td>SHOES</td>\n",
       "      <td>8931.0</td>\n",
       "    </tr>\n",
       "    <tr>\n",
       "      <th>2</th>\n",
       "      <td>30</td>\n",
       "      <td>7</td>\n",
       "      <td>Friday</td>\n",
       "      <td>7.410811e+09</td>\n",
       "      <td>1</td>\n",
       "      <td>PERSONAL CARE</td>\n",
       "      <td>4504.0</td>\n",
       "    </tr>\n",
       "    <tr>\n",
       "      <th>3</th>\n",
       "      <td>26</td>\n",
       "      <td>8</td>\n",
       "      <td>Friday</td>\n",
       "      <td>2.238404e+09</td>\n",
       "      <td>2</td>\n",
       "      <td>PAINT AND ACCESSORIES</td>\n",
       "      <td>3565.0</td>\n",
       "    </tr>\n",
       "    <tr>\n",
       "      <th>4</th>\n",
       "      <td>26</td>\n",
       "      <td>8</td>\n",
       "      <td>Friday</td>\n",
       "      <td>2.006614e+09</td>\n",
       "      <td>2</td>\n",
       "      <td>PAINT AND ACCESSORIES</td>\n",
       "      <td>1017.0</td>\n",
       "    </tr>\n",
       "  </tbody>\n",
       "</table>\n",
       "</div>"
      ],
      "text/plain": [
       "   TripType  VisitNumber Weekday           Upc  ScanCount  \\\n",
       "0       999            5  Friday  6.811315e+10         -1   \n",
       "1        30            7  Friday  6.053882e+10          1   \n",
       "2        30            7  Friday  7.410811e+09          1   \n",
       "3        26            8  Friday  2.238404e+09          2   \n",
       "4        26            8  Friday  2.006614e+09          2   \n",
       "\n",
       "   DepartmentDescription  FinelineNumber  \n",
       "0     FINANCIAL SERVICES          1000.0  \n",
       "1                  SHOES          8931.0  \n",
       "2          PERSONAL CARE          4504.0  \n",
       "3  PAINT AND ACCESSORIES          3565.0  \n",
       "4  PAINT AND ACCESSORIES          1017.0  "
      ]
     },
     "execution_count": 14,
     "metadata": {},
     "output_type": "execute_result"
    }
   ],
   "source": [
    "train.head(5)"
   ]
  },
  {
   "cell_type": "code",
   "execution_count": null,
   "metadata": {},
   "outputs": [],
   "source": []
  },
  {
   "cell_type": "markdown",
   "metadata": {},
   "source": [
    "# 2. Build a simple baseline model\n",
    "\n",
    "- Count number of purchases in a Visit\n",
    "- Create binary column `is_weekend`\n",
    "- Drop all the remaining columns"
   ]
  },
  {
   "cell_type": "code",
   "execution_count": 15,
   "metadata": {},
   "outputs": [],
   "source": [
    "from sklearn.model_selection import train_test_split\n",
    "from sklearn.ensemble import RandomForestClassifier\n",
    "from sklearn.preprocessing import LabelEncoder"
   ]
  },
  {
   "cell_type": "code",
   "execution_count": 16,
   "metadata": {},
   "outputs": [],
   "source": [
    "def is_weekend(day):\n",
    "    return int(day in ['Saturday', 'Sunday'])\n",
    "\n",
    "df_train = train.copy()\n",
    "\n",
    "# Generate is_weekend\n",
    "df_train['is_weekend'] = df_train.Weekday.apply(is_weekend)\n",
    "\n",
    "# Generate n_products\n",
    "gp_n_products = df_train.groupby('VisitNumber')['ScanCount'].count()\n",
    "df_train['n_products'] = df_train.VisitNumber.map(gp_n_products)\n",
    "\n",
    "# drop duplicated Visit numbers\n",
    "df_train = df_train.drop_duplicates(subset=['VisitNumber']).reset_index(drop=True)\n",
    "\n",
    "# drop all columns except `is_weekend`, `n_products` and `TripType`\n",
    "df_train = df_train.drop(['VisitNumber', 'Weekday', 'Upc', 'ScanCount',\n",
    "                          'DepartmentDescription', 'FinelineNumber'], axis=1)\n",
    "\n",
    "# Encode TripType so unique values are from 0 to (m-1), where m is number of classes\n",
    "encoder = LabelEncoder().fit(df_train['TripType'])\n",
    "df_train['TripType_encoded'] =  encoder.transform(df_train['TripType'])\n",
    "df_train = df_train.drop('TripType', axis=1)\n",
    "\n",
    "# Create separate variables X and y\n",
    "X = df_train.drop('TripType_encoded', axis=1)\n",
    "y = df_train.TripType_encoded"
   ]
  },
  {
   "cell_type": "code",
   "execution_count": 17,
   "metadata": {},
   "outputs": [],
   "source": [
    "from sklearn.model_selection import train_test_split"
   ]
  },
  {
   "cell_type": "code",
   "execution_count": 18,
   "metadata": {},
   "outputs": [],
   "source": [
    "# Split data into train and test, use parameter `stratify=y`\n",
    "\n",
    "X_train, X_test, y_train, y_test = train_test_split(X, y, test_size=0.20, random_state=774, stratify=y)"
   ]
  },
  {
   "cell_type": "code",
   "execution_count": 19,
   "metadata": {},
   "outputs": [],
   "source": [
    "from sklearn.ensemble import RandomForestClassifier\n",
    "from sklearn.metrics import log_loss"
   ]
  },
  {
   "cell_type": "code",
   "execution_count": 20,
   "metadata": {},
   "outputs": [
    {
     "data": {
      "text/html": [
       "<style>#sk-container-id-1 {color: black;}#sk-container-id-1 pre{padding: 0;}#sk-container-id-1 div.sk-toggleable {background-color: white;}#sk-container-id-1 label.sk-toggleable__label {cursor: pointer;display: block;width: 100%;margin-bottom: 0;padding: 0.3em;box-sizing: border-box;text-align: center;}#sk-container-id-1 label.sk-toggleable__label-arrow:before {content: \"▸\";float: left;margin-right: 0.25em;color: #696969;}#sk-container-id-1 label.sk-toggleable__label-arrow:hover:before {color: black;}#sk-container-id-1 div.sk-estimator:hover label.sk-toggleable__label-arrow:before {color: black;}#sk-container-id-1 div.sk-toggleable__content {max-height: 0;max-width: 0;overflow: hidden;text-align: left;background-color: #f0f8ff;}#sk-container-id-1 div.sk-toggleable__content pre {margin: 0.2em;color: black;border-radius: 0.25em;background-color: #f0f8ff;}#sk-container-id-1 input.sk-toggleable__control:checked~div.sk-toggleable__content {max-height: 200px;max-width: 100%;overflow: auto;}#sk-container-id-1 input.sk-toggleable__control:checked~label.sk-toggleable__label-arrow:before {content: \"▾\";}#sk-container-id-1 div.sk-estimator input.sk-toggleable__control:checked~label.sk-toggleable__label {background-color: #d4ebff;}#sk-container-id-1 div.sk-label input.sk-toggleable__control:checked~label.sk-toggleable__label {background-color: #d4ebff;}#sk-container-id-1 input.sk-hidden--visually {border: 0;clip: rect(1px 1px 1px 1px);clip: rect(1px, 1px, 1px, 1px);height: 1px;margin: -1px;overflow: hidden;padding: 0;position: absolute;width: 1px;}#sk-container-id-1 div.sk-estimator {font-family: monospace;background-color: #f0f8ff;border: 1px dotted black;border-radius: 0.25em;box-sizing: border-box;margin-bottom: 0.5em;}#sk-container-id-1 div.sk-estimator:hover {background-color: #d4ebff;}#sk-container-id-1 div.sk-parallel-item::after {content: \"\";width: 100%;border-bottom: 1px solid gray;flex-grow: 1;}#sk-container-id-1 div.sk-label:hover label.sk-toggleable__label {background-color: #d4ebff;}#sk-container-id-1 div.sk-serial::before {content: \"\";position: absolute;border-left: 1px solid gray;box-sizing: border-box;top: 0;bottom: 0;left: 50%;z-index: 0;}#sk-container-id-1 div.sk-serial {display: flex;flex-direction: column;align-items: center;background-color: white;padding-right: 0.2em;padding-left: 0.2em;position: relative;}#sk-container-id-1 div.sk-item {position: relative;z-index: 1;}#sk-container-id-1 div.sk-parallel {display: flex;align-items: stretch;justify-content: center;background-color: white;position: relative;}#sk-container-id-1 div.sk-item::before, #sk-container-id-1 div.sk-parallel-item::before {content: \"\";position: absolute;border-left: 1px solid gray;box-sizing: border-box;top: 0;bottom: 0;left: 50%;z-index: -1;}#sk-container-id-1 div.sk-parallel-item {display: flex;flex-direction: column;z-index: 1;position: relative;background-color: white;}#sk-container-id-1 div.sk-parallel-item:first-child::after {align-self: flex-end;width: 50%;}#sk-container-id-1 div.sk-parallel-item:last-child::after {align-self: flex-start;width: 50%;}#sk-container-id-1 div.sk-parallel-item:only-child::after {width: 0;}#sk-container-id-1 div.sk-dashed-wrapped {border: 1px dashed gray;margin: 0 0.4em 0.5em 0.4em;box-sizing: border-box;padding-bottom: 0.4em;background-color: white;}#sk-container-id-1 div.sk-label label {font-family: monospace;font-weight: bold;display: inline-block;line-height: 1.2em;}#sk-container-id-1 div.sk-label-container {text-align: center;}#sk-container-id-1 div.sk-container {/* jupyter's `normalize.less` sets `[hidden] { display: none; }` but bootstrap.min.css set `[hidden] { display: none !important; }` so we also need the `!important` here to be able to override the default hidden behavior on the sphinx rendered scikit-learn.org. See: https://github.com/scikit-learn/scikit-learn/issues/21755 */display: inline-block !important;position: relative;}#sk-container-id-1 div.sk-text-repr-fallback {display: none;}</style><div id=\"sk-container-id-1\" class=\"sk-top-container\"><div class=\"sk-text-repr-fallback\"><pre>RandomForestClassifier()</pre><b>In a Jupyter environment, please rerun this cell to show the HTML representation or trust the notebook. <br />On GitHub, the HTML representation is unable to render, please try loading this page with nbviewer.org.</b></div><div class=\"sk-container\" hidden><div class=\"sk-item\"><div class=\"sk-estimator sk-toggleable\"><input class=\"sk-toggleable__control sk-hidden--visually\" id=\"sk-estimator-id-1\" type=\"checkbox\" checked><label for=\"sk-estimator-id-1\" class=\"sk-toggleable__label sk-toggleable__label-arrow\">RandomForestClassifier</label><div class=\"sk-toggleable__content\"><pre>RandomForestClassifier()</pre></div></div></div></div></div>"
      ],
      "text/plain": [
       "RandomForestClassifier()"
      ]
     },
     "execution_count": 20,
     "metadata": {},
     "output_type": "execute_result"
    }
   ],
   "source": [
    "# train a RandomForest model with default hyperparameters\n",
    "\n",
    "clf = RandomForestClassifier()\n",
    "clf.fit(X_train, y_train)"
   ]
  },
  {
   "cell_type": "markdown",
   "metadata": {},
   "source": [
    "---\n",
    "For this tash we are using a log loss $$- y \\log p - (1-y)\\log(1-p)$$\n",
    "in the following multi class form:\n",
    "\n",
    "$$\\frac{1}{N}\\sum_{i=1}^N \\log {\\left(\\frac{e^{a_{it_i}}}{\\sum_{j=0}^{M-1} e^{a_{ij}}}\\right)}$$\n",
    "\n",
    "$t \\in \\{0\\ldots M-1\\}$, $M$ is number of classes, $N$ is number of objects. Numerator is $a_{it_{i}}$ = \\[ unnormalized probability of an $i$'th object to be assigned to the right class $t_i$\\], thus:\n",
    "\n",
    "$$p_{it_i} = \\frac{e^{a_{it_i}}}{\\sum_{j=0}^{M-1} e^{a_{ij}}}$$\n",
    "\n",
    "see for example https://towardsdatascience.com/cross-entropy-for-classification-d98e7f974451"
   ]
  },
  {
   "cell_type": "code",
   "execution_count": 21,
   "metadata": {},
   "outputs": [
    {
     "name": "stderr",
     "output_type": "stream",
     "text": [
      "/homes/anvar/anaconda3/envs/cuda311/lib/python3.11/site-packages/sklearn/metrics/_classification.py:2916: UserWarning: The y_pred values do not sum to one. Starting from 1.5 thiswill result in an error.\n",
      "  warnings.warn(\n"
     ]
    },
    {
     "data": {
      "text/plain": [
       "2.6319043048286748"
      ]
     },
     "execution_count": 21,
     "metadata": {},
     "output_type": "execute_result"
    }
   ],
   "source": [
    "# predict y_test and compute multi-class log loss of your prediction\n",
    "\n",
    "y_pred = clf.predict_proba(X_test)\n",
    "log_loss(y_test, y_pred)"
   ]
  },
  {
   "cell_type": "code",
   "execution_count": 22,
   "metadata": {},
   "outputs": [
    {
     "data": {
      "text/plain": [
       "(19135, 38)"
      ]
     },
     "execution_count": 22,
     "metadata": {},
     "output_type": "execute_result"
    }
   ],
   "source": [
    "y_pred.shape"
   ]
  },
  {
   "cell_type": "code",
   "execution_count": 23,
   "metadata": {},
   "outputs": [],
   "source": [
    "from sklearn.metrics import accuracy_score"
   ]
  },
  {
   "cell_type": "code",
   "execution_count": 24,
   "metadata": {},
   "outputs": [
    {
     "data": {
      "text/plain": [
       "0.27640449438202247"
      ]
     },
     "execution_count": 24,
     "metadata": {},
     "output_type": "execute_result"
    }
   ],
   "source": [
    "# just to get an intuition on whether it is a good a bad prediction compute an accuracy of your model\n",
    "\n",
    "y_pred = clf.predict(X_test)\n",
    "accuracy_score(y_test, y_pred)"
   ]
  },
  {
   "cell_type": "code",
   "execution_count": 25,
   "metadata": {},
   "outputs": [
    {
     "data": {
      "text/plain": [
       "(array([ 5, 31, 32]), array([9480, 7923, 1732]))"
      ]
     },
     "execution_count": 25,
     "metadata": {},
     "output_type": "execute_result"
    }
   ],
   "source": [
    "# Remember this is a 38 class classification, count predicted classes\n",
    "\n",
    "np.unique(y_pred, return_counts=True)"
   ]
  },
  {
   "cell_type": "code",
   "execution_count": 26,
   "metadata": {},
   "outputs": [
    {
     "data": {
      "text/plain": [
       "5     9729\n",
       "31    7917\n",
       "6     7571\n",
       "37    6755\n",
       "32    4904\n",
       "4     4602\n",
       "2     3674\n",
       "17    2958\n",
       "0     2914\n",
       "28    2404\n",
       "30    2330\n",
       "29    2230\n",
       "16    2087\n",
       "27    1624\n",
       "24    1587\n",
       "34    1486\n",
       "25    1052\n",
       "3     1022\n",
       "36     950\n",
       "22     865\n",
       "9      782\n",
       "14     742\n",
       "35     698\n",
       "19     628\n",
       "26     575\n",
       "13     513\n",
       "12     510\n",
       "23     475\n",
       "33     466\n",
       "10     439\n",
       "18     403\n",
       "20     394\n",
       "21     347\n",
       "11     300\n",
       "1      277\n",
       "7      215\n",
       "15     111\n",
       "8        3\n",
       "Name: TripType_encoded, dtype: int64"
      ]
     },
     "execution_count": 26,
     "metadata": {},
     "output_type": "execute_result"
    }
   ],
   "source": [
    "# Check value counts of a TripType on a train set\n",
    "\n",
    "y_train.value_counts()"
   ]
  },
  {
   "cell_type": "markdown",
   "metadata": {},
   "source": [
    "## Compare with the constant prediction\n"
   ]
  },
  {
   "cell_type": "code",
   "execution_count": 27,
   "metadata": {},
   "outputs": [
    {
     "name": "stdout",
     "output_type": "stream",
     "text": [
      "0.1270969427750196\n",
      "31.462615236917888\n"
     ]
    },
    {
     "name": "stderr",
     "output_type": "stream",
     "text": [
      "/homes/anvar/anaconda3/envs/cuda311/lib/python3.11/site-packages/sklearn/metrics/_classification.py:2916: UserWarning: The y_pred values do not sum to one. Starting from 1.5 thiswill result in an error.\n",
      "  warnings.warn(\n"
     ]
    }
   ],
   "source": [
    "# Compute a log loss and an accuracy of a constant prediction (predict most frequent TripType)\n",
    "\n",
    "y_dummy = [5]*19135\n",
    "print(accuracy_score(y_test, y_dummy))\n",
    "\n",
    "y_dummy_proba = np.zeros((19135, 38))\n",
    "y_dummy_proba[:, 5] = 1\n",
    "print(log_loss(y_test, y_dummy_proba))"
   ]
  },
  {
   "cell_type": "code",
   "execution_count": null,
   "metadata": {},
   "outputs": [],
   "source": []
  },
  {
   "cell_type": "markdown",
   "metadata": {},
   "source": [
    "## Conclusions on the baseline\n",
    "1. Even with this simple features and relatively stupid predictions we are better than a constant prediction.\n",
    "2. Classifier mostly predicts frequent classes.\n",
    "3. Some frequent classes are predicted and some are not. This may be due to the fact that predicted\n",
    "classes are better described by the generated features."
   ]
  },
  {
   "cell_type": "code",
   "execution_count": null,
   "metadata": {},
   "outputs": [],
   "source": []
  },
  {
   "cell_type": "markdown",
   "metadata": {},
   "source": [
    "# 3. Deeper look on the features.\n",
    "\n",
    "### Columns description\n",
    "\n",
    "- `TripType` - a categorical id representing the type of shopping trip the customer made. This is the ground truth that you are predicting. TripType_999 is an \"other\" category.\n",
    "- `VisitNumber` - an id corresponding to a single trip by a single customer\n",
    "- `Weekday` - the weekday of the trip\n",
    "- `Upc`- the UPC number of the product purchased\n",
    "- `ScanCount` - the number of the given item that was purchased. A negative value indicates a product return.\n",
    "- `DepartmentDescription` - a high-level description of the item's department\n",
    "- `FinelineNumber` - a more refined category for each of the products, created by Walmart\n"
   ]
  },
  {
   "cell_type": "code",
   "execution_count": 28,
   "metadata": {},
   "outputs": [
    {
     "data": {
      "text/html": [
       "<div>\n",
       "<style scoped>\n",
       "    .dataframe tbody tr th:only-of-type {\n",
       "        vertical-align: middle;\n",
       "    }\n",
       "\n",
       "    .dataframe tbody tr th {\n",
       "        vertical-align: top;\n",
       "    }\n",
       "\n",
       "    .dataframe thead th {\n",
       "        text-align: right;\n",
       "    }\n",
       "</style>\n",
       "<table border=\"1\" class=\"dataframe\">\n",
       "  <thead>\n",
       "    <tr style=\"text-align: right;\">\n",
       "      <th></th>\n",
       "      <th>TripType</th>\n",
       "      <th>VisitNumber</th>\n",
       "      <th>Weekday</th>\n",
       "      <th>Upc</th>\n",
       "      <th>ScanCount</th>\n",
       "      <th>DepartmentDescription</th>\n",
       "      <th>FinelineNumber</th>\n",
       "    </tr>\n",
       "  </thead>\n",
       "  <tbody>\n",
       "    <tr>\n",
       "      <th>0</th>\n",
       "      <td>999</td>\n",
       "      <td>5</td>\n",
       "      <td>Friday</td>\n",
       "      <td>6.811315e+10</td>\n",
       "      <td>-1</td>\n",
       "      <td>FINANCIAL SERVICES</td>\n",
       "      <td>1000.0</td>\n",
       "    </tr>\n",
       "    <tr>\n",
       "      <th>1</th>\n",
       "      <td>30</td>\n",
       "      <td>7</td>\n",
       "      <td>Friday</td>\n",
       "      <td>6.053882e+10</td>\n",
       "      <td>1</td>\n",
       "      <td>SHOES</td>\n",
       "      <td>8931.0</td>\n",
       "    </tr>\n",
       "    <tr>\n",
       "      <th>2</th>\n",
       "      <td>30</td>\n",
       "      <td>7</td>\n",
       "      <td>Friday</td>\n",
       "      <td>7.410811e+09</td>\n",
       "      <td>1</td>\n",
       "      <td>PERSONAL CARE</td>\n",
       "      <td>4504.0</td>\n",
       "    </tr>\n",
       "    <tr>\n",
       "      <th>3</th>\n",
       "      <td>26</td>\n",
       "      <td>8</td>\n",
       "      <td>Friday</td>\n",
       "      <td>2.238404e+09</td>\n",
       "      <td>2</td>\n",
       "      <td>PAINT AND ACCESSORIES</td>\n",
       "      <td>3565.0</td>\n",
       "    </tr>\n",
       "    <tr>\n",
       "      <th>4</th>\n",
       "      <td>26</td>\n",
       "      <td>8</td>\n",
       "      <td>Friday</td>\n",
       "      <td>2.006614e+09</td>\n",
       "      <td>2</td>\n",
       "      <td>PAINT AND ACCESSORIES</td>\n",
       "      <td>1017.0</td>\n",
       "    </tr>\n",
       "  </tbody>\n",
       "</table>\n",
       "</div>"
      ],
      "text/plain": [
       "   TripType  VisitNumber Weekday           Upc  ScanCount  \\\n",
       "0       999            5  Friday  6.811315e+10         -1   \n",
       "1        30            7  Friday  6.053882e+10          1   \n",
       "2        30            7  Friday  7.410811e+09          1   \n",
       "3        26            8  Friday  2.238404e+09          2   \n",
       "4        26            8  Friday  2.006614e+09          2   \n",
       "\n",
       "   DepartmentDescription  FinelineNumber  \n",
       "0     FINANCIAL SERVICES          1000.0  \n",
       "1                  SHOES          8931.0  \n",
       "2          PERSONAL CARE          4504.0  \n",
       "3  PAINT AND ACCESSORIES          3565.0  \n",
       "4  PAINT AND ACCESSORIES          1017.0  "
      ]
     },
     "execution_count": 28,
     "metadata": {},
     "output_type": "execute_result"
    }
   ],
   "source": [
    "train.head()"
   ]
  },
  {
   "cell_type": "code",
   "execution_count": 29,
   "metadata": {},
   "outputs": [
    {
     "data": {
      "text/plain": [
       "TripType                   int64\n",
       "VisitNumber                int64\n",
       "Weekday                   object\n",
       "Upc                      float64\n",
       "ScanCount                  int64\n",
       "DepartmentDescription     object\n",
       "FinelineNumber           float64\n",
       "dtype: object"
      ]
     },
     "execution_count": 29,
     "metadata": {},
     "output_type": "execute_result"
    }
   ],
   "source": [
    "train.dtypes"
   ]
  },
  {
   "cell_type": "markdown",
   "metadata": {},
   "source": [
    "All features, except `ScanCount` are categorical, a negative value of a `ScanCount` indicates a product return.\n",
    "\n",
    "### 3.1 VisitNumber \n",
    "is an indicator of a visit, we need it to aggregate different purchases,\n",
    "but the number itself is not important it is just an index. Let's have a quick look on it."
   ]
  },
  {
   "cell_type": "code",
   "execution_count": 30,
   "metadata": {},
   "outputs": [
    {
     "data": {
      "text/plain": [
       "72439    209\n",
       "88011    151\n",
       "9181     113\n",
       "60971    112\n",
       "65792    111\n",
       "        ... \n",
       "97089      1\n",
       "97094      1\n",
       "103        1\n",
       "107        1\n",
       "117        1\n",
       "Name: VisitNumber, Length: 95674, dtype: int64"
      ]
     },
     "execution_count": 30,
     "metadata": {},
     "output_type": "execute_result"
    }
   ],
   "source": [
    "train.VisitNumber.value_counts()"
   ]
  },
  {
   "cell_type": "code",
   "execution_count": 31,
   "metadata": {},
   "outputs": [
    {
     "data": {
      "image/png": "[encoded data removed]",
      "text/plain": [
       "<Figure size 432x288 with 1 Axes>"
      ]
     },
     "metadata": {
      "needs_background": "light"
     },
     "output_type": "display_data"
    }
   ],
   "source": [
    "sns.histplot(data=train.VisitNumber.value_counts(), bins=50);"
   ]
  },
  {
   "cell_type": "code",
   "execution_count": 32,
   "metadata": {},
   "outputs": [
    {
     "data": {
      "text/plain": [
       "1     19563\n",
       "2     17255\n",
       "3     10362\n",
       "4      8038\n",
       "5      5884\n",
       "6      4633\n",
       "7      3716\n",
       "8      3154\n",
       "9      2593\n",
       "10     2251\n",
       "11     1889\n",
       "12     1746\n",
       "13     1519\n",
       "14     1253\n",
       "15     1207\n",
       "16     1030\n",
       "17      887\n",
       "18      772\n",
       "19      699\n",
       "20      674\n",
       "Name: VisitNumber, dtype: int64"
      ]
     },
     "execution_count": 32,
     "metadata": {},
     "output_type": "execute_result"
    }
   ],
   "source": [
    "train.VisitNumber.value_counts().value_counts().sort_index()[:20]"
   ]
  },
  {
   "cell_type": "markdown",
   "metadata": {},
   "source": [
    "--- \n",
    "\n",
    "- More than half of all Visit consists of 4 or less purchases\n",
    "- 90% of Visits consist of 17 or less purchases"
   ]
  },
  {
   "cell_type": "code",
   "execution_count": null,
   "metadata": {},
   "outputs": [],
   "source": []
  },
  {
   "cell_type": "markdown",
   "metadata": {},
   "source": [
    "### 3.2 Weekday"
   ]
  },
  {
   "cell_type": "code",
   "execution_count": 33,
   "metadata": {},
   "outputs": [
    {
     "data": {
      "text/plain": [
       "Monday        83130\n",
       "Tuesday       72529\n",
       "Wednesday     71115\n",
       "Thursday      67962\n",
       "Friday        96247\n",
       "Saturday     122096\n",
       "Sunday       133975\n",
       "Name: Weekday, dtype: int64"
      ]
     },
     "execution_count": 33,
     "metadata": {},
     "output_type": "execute_result"
    }
   ],
   "source": [
    "# How many visits are on different weekdays\n",
    "weekdays = ['Monday', 'Tuesday', 'Wednesday','Thursday','Friday', 'Saturday', 'Sunday']\n",
    "\n",
    "train.Weekday.value_counts().reindex(weekdays)"
   ]
  },
  {
   "cell_type": "code",
   "execution_count": 34,
   "metadata": {},
   "outputs": [
    {
     "data": {
      "text/plain": [
       "Weekday\n",
       "Monday       1926\n",
       "Tuesday      1878\n",
       "Wednesday    1871\n",
       "Thursday     1793\n",
       "Friday       2418\n",
       "Saturday     2763\n",
       "Sunday       2809\n",
       "Name: IsReturn, dtype: int64"
      ]
     },
     "execution_count": 34,
     "metadata": {},
     "output_type": "execute_result"
    }
   ],
   "source": [
    "# Do we have more returns on some weekdays?\n",
    "\n",
    "train['IsReturn'] = train['ScanCount'].apply(lambda x: x < 0)\n",
    "train.groupby(['Weekday'])['IsReturn'].sum().sort_values().reindex(weekdays)"
   ]
  },
  {
   "cell_type": "code",
   "execution_count": 35,
   "metadata": {},
   "outputs": [
    {
     "data": {
      "text/plain": [
       "-1     14394\n",
       "-2       814\n",
       "-3       143\n",
       "-4        76\n",
       "-5        16\n",
       "-6        10\n",
       "-9         2\n",
       "-12        1\n",
       "-7         1\n",
       "-10        1\n",
       "Name: ScanCount, dtype: int64"
      ]
     },
     "execution_count": 35,
     "metadata": {},
     "output_type": "execute_result"
    }
   ],
   "source": [
    "# Is there only `-1` returns?\n",
    "\n",
    "train[train.IsReturn].ScanCount.value_counts()"
   ]
  },
  {
   "cell_type": "markdown",
   "metadata": {},
   "source": [
    "### 3.3 DepartmentDescription"
   ]
  },
  {
   "cell_type": "code",
   "execution_count": 36,
   "metadata": {},
   "outputs": [
    {
     "data": {
      "text/plain": [
       "DepartmentDescription\n",
       "GROCERY DRY GOODS              88718\n",
       "DSD GROCERY                    79814\n",
       "PRODUCE                        52813\n",
       "DAIRY                          50550\n",
       "PERSONAL CARE                  44819\n",
       "IMPULSE MERCHANDISE            31811\n",
       "HOUSEHOLD CHEMICALS/SUPP       26915\n",
       "PHARMACY OTC                   25620\n",
       "FROZEN FOODS                   25368\n",
       "HOUSEHOLD PAPER GOODS          17986\n",
       "COMM BREAD                     17516\n",
       "BEAUTY                         15077\n",
       "INFANT CONSUMABLE HARDLINES    13149\n",
       "PETS AND SUPPLIES              12592\n",
       "CANDY, TOBACCO, COOKIES        11745\n",
       "MENS WEAR                      11690\n",
       "MEAT - FRESH & FROZEN          10882\n",
       "SERVICE DELI                   10777\n",
       "PRE PACKED DELI                10722\n",
       "CELEBRATION                     9957\n",
       "Name: ScanCount, dtype: int64"
      ]
     },
     "execution_count": 36,
     "metadata": {},
     "output_type": "execute_result"
    }
   ],
   "source": [
    "# What are the most popular Departments? (total sum over ScanCount)\n",
    "\n",
    "train.groupby('DepartmentDescription').ScanCount.sum().sort_values(ascending=False)[:20]"
   ]
  },
  {
   "cell_type": "code",
   "execution_count": 37,
   "metadata": {},
   "outputs": [
    {
     "data": {
      "text/html": [
       "<div>\n",
       "<style scoped>\n",
       "    .dataframe tbody tr th:only-of-type {\n",
       "        vertical-align: middle;\n",
       "    }\n",
       "\n",
       "    .dataframe tbody tr th {\n",
       "        vertical-align: top;\n",
       "    }\n",
       "\n",
       "    .dataframe thead th {\n",
       "        text-align: right;\n",
       "    }\n",
       "</style>\n",
       "<table border=\"1\" class=\"dataframe\">\n",
       "  <thead>\n",
       "    <tr style=\"text-align: right;\">\n",
       "      <th></th>\n",
       "      <th>TripType</th>\n",
       "      <th>Count</th>\n",
       "      <th>DepartmentDescription</th>\n",
       "    </tr>\n",
       "  </thead>\n",
       "  <tbody>\n",
       "    <tr>\n",
       "      <th>0</th>\n",
       "      <td>3</td>\n",
       "      <td>5369</td>\n",
       "      <td>FINANCIAL SERVICES</td>\n",
       "    </tr>\n",
       "    <tr>\n",
       "      <th>1</th>\n",
       "      <td>3</td>\n",
       "      <td>804</td>\n",
       "      <td>IMPULSE MERCHANDISE</td>\n",
       "    </tr>\n",
       "    <tr>\n",
       "      <th>2</th>\n",
       "      <td>3</td>\n",
       "      <td>76</td>\n",
       "      <td>LARGE HOUSEHOLD GOODS</td>\n",
       "    </tr>\n",
       "    <tr>\n",
       "      <th>3</th>\n",
       "      <td>4</td>\n",
       "      <td>563</td>\n",
       "      <td>PHARMACY OTC</td>\n",
       "    </tr>\n",
       "    <tr>\n",
       "      <th>4</th>\n",
       "      <td>4</td>\n",
       "      <td>73</td>\n",
       "      <td>DSD GROCERY</td>\n",
       "    </tr>\n",
       "    <tr>\n",
       "      <th>5</th>\n",
       "      <td>4</td>\n",
       "      <td>47</td>\n",
       "      <td>IMPULSE MERCHANDISE</td>\n",
       "    </tr>\n",
       "    <tr>\n",
       "      <th>6</th>\n",
       "      <td>5</td>\n",
       "      <td>5281</td>\n",
       "      <td>PHARMACY OTC</td>\n",
       "    </tr>\n",
       "    <tr>\n",
       "      <th>7</th>\n",
       "      <td>5</td>\n",
       "      <td>2714</td>\n",
       "      <td>PHARMACY RX</td>\n",
       "    </tr>\n",
       "    <tr>\n",
       "      <th>8</th>\n",
       "      <td>5</td>\n",
       "      <td>922</td>\n",
       "      <td>PERSONAL CARE</td>\n",
       "    </tr>\n",
       "    <tr>\n",
       "      <th>9</th>\n",
       "      <td>6</td>\n",
       "      <td>1000</td>\n",
       "      <td>LIQUOR,WINE,BEER</td>\n",
       "    </tr>\n",
       "    <tr>\n",
       "      <th>10</th>\n",
       "      <td>6</td>\n",
       "      <td>674</td>\n",
       "      <td>CANDY, TOBACCO, COOKIES</td>\n",
       "    </tr>\n",
       "    <tr>\n",
       "      <th>11</th>\n",
       "      <td>6</td>\n",
       "      <td>360</td>\n",
       "      <td>DSD GROCERY</td>\n",
       "    </tr>\n",
       "    <tr>\n",
       "      <th>12</th>\n",
       "      <td>7</td>\n",
       "      <td>3669</td>\n",
       "      <td>SERVICE DELI</td>\n",
       "    </tr>\n",
       "    <tr>\n",
       "      <th>13</th>\n",
       "      <td>7</td>\n",
       "      <td>3354</td>\n",
       "      <td>GROCERY DRY GOODS</td>\n",
       "    </tr>\n",
       "    <tr>\n",
       "      <th>14</th>\n",
       "      <td>7</td>\n",
       "      <td>3022</td>\n",
       "      <td>PRODUCE</td>\n",
       "    </tr>\n",
       "  </tbody>\n",
       "</table>\n",
       "</div>"
      ],
      "text/plain": [
       "    TripType  Count    DepartmentDescription\n",
       "0          3   5369       FINANCIAL SERVICES\n",
       "1          3    804      IMPULSE MERCHANDISE\n",
       "2          3     76    LARGE HOUSEHOLD GOODS\n",
       "3          4    563             PHARMACY OTC\n",
       "4          4     73              DSD GROCERY\n",
       "5          4     47      IMPULSE MERCHANDISE\n",
       "6          5   5281             PHARMACY OTC\n",
       "7          5   2714              PHARMACY RX\n",
       "8          5    922            PERSONAL CARE\n",
       "9          6   1000         LIQUOR,WINE,BEER\n",
       "10         6    674  CANDY, TOBACCO, COOKIES\n",
       "11         6    360              DSD GROCERY\n",
       "12         7   3669             SERVICE DELI\n",
       "13         7   3354        GROCERY DRY GOODS\n",
       "14         7   3022                  PRODUCE"
      ]
     },
     "execution_count": 37,
     "metadata": {},
     "output_type": "execute_result"
    }
   ],
   "source": [
    "# Does most popular DepartmentDescription differ for different TripTypes?\n",
    "# > Allows to more or less deanonymize `TripType`.\n",
    "\n",
    "gp = train.groupby('TripType')['DepartmentDescription'].value_counts().reset_index(name='Count')\n",
    "gp2 = gp.groupby(['TripType'])[['Count','DepartmentDescription']]\\\n",
    "                                                           .apply(pd.DataFrame.nlargest, n=3, columns=['Count'])\\\n",
    "                                                           .reset_index()\\\n",
    "                                                           .drop('level_1', axis=1)\n",
    "\n",
    "gp2[:15]"
   ]
  },
  {
   "cell_type": "code",
   "execution_count": 38,
   "metadata": {},
   "outputs": [
    {
     "data": {
      "text/html": [
       "<div>\n",
       "<style scoped>\n",
       "    .dataframe tbody tr th:only-of-type {\n",
       "        vertical-align: middle;\n",
       "    }\n",
       "\n",
       "    .dataframe tbody tr th {\n",
       "        vertical-align: top;\n",
       "    }\n",
       "\n",
       "    .dataframe thead th {\n",
       "        text-align: right;\n",
       "    }\n",
       "</style>\n",
       "<table border=\"1\" class=\"dataframe\">\n",
       "  <thead>\n",
       "    <tr style=\"text-align: right;\">\n",
       "      <th></th>\n",
       "      <th>TripType</th>\n",
       "      <th>Count</th>\n",
       "      <th>DepartmentDescription</th>\n",
       "    </tr>\n",
       "  </thead>\n",
       "  <tbody>\n",
       "    <tr>\n",
       "      <th>51</th>\n",
       "      <td>25</td>\n",
       "      <td>5381</td>\n",
       "      <td>MENS WEAR</td>\n",
       "    </tr>\n",
       "    <tr>\n",
       "      <th>52</th>\n",
       "      <td>25</td>\n",
       "      <td>3716</td>\n",
       "      <td>LADIESWEAR</td>\n",
       "    </tr>\n",
       "    <tr>\n",
       "      <th>53</th>\n",
       "      <td>25</td>\n",
       "      <td>1836</td>\n",
       "      <td>GIRLS WEAR, 4-6X  AND 7-14</td>\n",
       "    </tr>\n",
       "    <tr>\n",
       "      <th>87</th>\n",
       "      <td>37</td>\n",
       "      <td>13351</td>\n",
       "      <td>PRODUCE</td>\n",
       "    </tr>\n",
       "    <tr>\n",
       "      <th>88</th>\n",
       "      <td>37</td>\n",
       "      <td>5477</td>\n",
       "      <td>GROCERY DRY GOODS</td>\n",
       "    </tr>\n",
       "    <tr>\n",
       "      <th>89</th>\n",
       "      <td>37</td>\n",
       "      <td>3667</td>\n",
       "      <td>DAIRY</td>\n",
       "    </tr>\n",
       "    <tr>\n",
       "      <th>90</th>\n",
       "      <td>38</td>\n",
       "      <td>7252</td>\n",
       "      <td>DAIRY</td>\n",
       "    </tr>\n",
       "    <tr>\n",
       "      <th>91</th>\n",
       "      <td>38</td>\n",
       "      <td>6417</td>\n",
       "      <td>GROCERY DRY GOODS</td>\n",
       "    </tr>\n",
       "    <tr>\n",
       "      <th>92</th>\n",
       "      <td>38</td>\n",
       "      <td>4020</td>\n",
       "      <td>DSD GROCERY</td>\n",
       "    </tr>\n",
       "    <tr>\n",
       "      <th>93</th>\n",
       "      <td>39</td>\n",
       "      <td>12956</td>\n",
       "      <td>DSD GROCERY</td>\n",
       "    </tr>\n",
       "    <tr>\n",
       "      <th>94</th>\n",
       "      <td>39</td>\n",
       "      <td>12602</td>\n",
       "      <td>GROCERY DRY GOODS</td>\n",
       "    </tr>\n",
       "    <tr>\n",
       "      <th>95</th>\n",
       "      <td>39</td>\n",
       "      <td>8126</td>\n",
       "      <td>PERSONAL CARE</td>\n",
       "    </tr>\n",
       "    <tr>\n",
       "      <th>96</th>\n",
       "      <td>40</td>\n",
       "      <td>32639</td>\n",
       "      <td>GROCERY DRY GOODS</td>\n",
       "    </tr>\n",
       "    <tr>\n",
       "      <th>97</th>\n",
       "      <td>40</td>\n",
       "      <td>22157</td>\n",
       "      <td>DSD GROCERY</td>\n",
       "    </tr>\n",
       "    <tr>\n",
       "      <th>98</th>\n",
       "      <td>40</td>\n",
       "      <td>17354</td>\n",
       "      <td>DAIRY</td>\n",
       "    </tr>\n",
       "  </tbody>\n",
       "</table>\n",
       "</div>"
      ],
      "text/plain": [
       "    TripType  Count       DepartmentDescription\n",
       "51        25   5381                   MENS WEAR\n",
       "52        25   3716                  LADIESWEAR\n",
       "53        25   1836  GIRLS WEAR, 4-6X  AND 7-14\n",
       "87        37  13351                     PRODUCE\n",
       "88        37   5477           GROCERY DRY GOODS\n",
       "89        37   3667                       DAIRY\n",
       "90        38   7252                       DAIRY\n",
       "91        38   6417           GROCERY DRY GOODS\n",
       "92        38   4020                 DSD GROCERY\n",
       "93        39  12956                 DSD GROCERY\n",
       "94        39  12602           GROCERY DRY GOODS\n",
       "95        39   8126               PERSONAL CARE\n",
       "96        40  32639           GROCERY DRY GOODS\n",
       "97        40  22157                 DSD GROCERY\n",
       "98        40  17354                       DAIRY"
      ]
     },
     "execution_count": 38,
     "metadata": {},
     "output_type": "execute_result"
    }
   ],
   "source": [
    "# From our baseline, recall most popular TripTypes, let's deanonymize them.\n",
    "# Select subset of the previous table with TripType in [40, 39, 37, 38, 25]\n",
    "\n",
    "gp2[gp2.TripType.isin([40, 39, 37, 38, 25])]"
   ]
  },
  {
   "cell_type": "code",
   "execution_count": 39,
   "metadata": {},
   "outputs": [
    {
     "data": {
      "text/plain": [
       "DepartmentDescription\n",
       "FINANCIAL SERVICES          1162\n",
       "LADIESWEAR                   800\n",
       "PRODUCE                      733\n",
       "PERSONAL CARE                682\n",
       "DSD GROCERY                  679\n",
       "MENS WEAR                    634\n",
       "GROCERY DRY GOODS            606\n",
       "PHARMACY OTC                 472\n",
       "IMPULSE MERCHANDISE          453\n",
       "BEAUTY                       452\n",
       "ELECTRONICS                  450\n",
       "HOUSEHOLD CHEMICALS/SUPP     392\n",
       "COOK AND DINE                382\n",
       "TOYS                         356\n",
       "DAIRY                        343\n",
       "Name: IsReturn, dtype: int64"
      ]
     },
     "execution_count": 39,
     "metadata": {},
     "output_type": "execute_result"
    }
   ],
   "source": [
    "# What are the DepartmentDescription with most returns?\n",
    "\n",
    "train.groupby('DepartmentDescription')['IsReturn'].sum().sort_values(ascending=False)[:15]"
   ]
  },
  {
   "cell_type": "code",
   "execution_count": null,
   "metadata": {},
   "outputs": [],
   "source": []
  },
  {
   "cell_type": "markdown",
   "metadata": {},
   "source": [
    "### 3.4 FinelineNumber\n",
    "\n",
    "> according to the data description `FinelineNumber` is just a more detailed `DepartmentDescription`"
   ]
  },
  {
   "cell_type": "code",
   "execution_count": 40,
   "metadata": {},
   "outputs": [
    {
     "data": {
      "text/html": [
       "<div>\n",
       "<style scoped>\n",
       "    .dataframe tbody tr th:only-of-type {\n",
       "        vertical-align: middle;\n",
       "    }\n",
       "\n",
       "    .dataframe tbody tr th {\n",
       "        vertical-align: top;\n",
       "    }\n",
       "\n",
       "    .dataframe thead th {\n",
       "        text-align: right;\n",
       "    }\n",
       "</style>\n",
       "<table border=\"1\" class=\"dataframe\">\n",
       "  <thead>\n",
       "    <tr style=\"text-align: right;\">\n",
       "      <th>DepartmentDescription</th>\n",
       "      <th>DAIRY</th>\n",
       "      <th>DSD GROCERY</th>\n",
       "      <th>GROCERY DRY GOODS</th>\n",
       "      <th>HOUSEHOLD CHEMICALS/SUPP</th>\n",
       "      <th>HOUSEHOLD PAPER GOODS</th>\n",
       "      <th>IMPULSE MERCHANDISE</th>\n",
       "      <th>PERSONAL CARE</th>\n",
       "      <th>PHARMACY OTC</th>\n",
       "      <th>PRODUCE</th>\n",
       "    </tr>\n",
       "    <tr>\n",
       "      <th>FinelineNumber</th>\n",
       "      <th></th>\n",
       "      <th></th>\n",
       "      <th></th>\n",
       "      <th></th>\n",
       "      <th></th>\n",
       "      <th></th>\n",
       "      <th></th>\n",
       "      <th></th>\n",
       "      <th></th>\n",
       "    </tr>\n",
       "  </thead>\n",
       "  <tbody>\n",
       "    <tr>\n",
       "      <th>100.0</th>\n",
       "      <td>0</td>\n",
       "      <td>0</td>\n",
       "      <td>95</td>\n",
       "      <td>0</td>\n",
       "      <td>0</td>\n",
       "      <td>2354</td>\n",
       "      <td>0</td>\n",
       "      <td>0</td>\n",
       "      <td>69</td>\n",
       "    </tr>\n",
       "    <tr>\n",
       "      <th>110.0</th>\n",
       "      <td>0</td>\n",
       "      <td>0</td>\n",
       "      <td>0</td>\n",
       "      <td>536</td>\n",
       "      <td>770</td>\n",
       "      <td>773</td>\n",
       "      <td>0</td>\n",
       "      <td>0</td>\n",
       "      <td>0</td>\n",
       "    </tr>\n",
       "    <tr>\n",
       "      <th>115.0</th>\n",
       "      <td>0</td>\n",
       "      <td>0</td>\n",
       "      <td>0</td>\n",
       "      <td>10</td>\n",
       "      <td>0</td>\n",
       "      <td>2576</td>\n",
       "      <td>0</td>\n",
       "      <td>0</td>\n",
       "      <td>0</td>\n",
       "    </tr>\n",
       "    <tr>\n",
       "      <th>135.0</th>\n",
       "      <td>0</td>\n",
       "      <td>0</td>\n",
       "      <td>0</td>\n",
       "      <td>0</td>\n",
       "      <td>0</td>\n",
       "      <td>4417</td>\n",
       "      <td>26</td>\n",
       "      <td>0</td>\n",
       "      <td>0</td>\n",
       "    </tr>\n",
       "    <tr>\n",
       "      <th>203.0</th>\n",
       "      <td>0</td>\n",
       "      <td>0</td>\n",
       "      <td>0</td>\n",
       "      <td>0</td>\n",
       "      <td>69</td>\n",
       "      <td>0</td>\n",
       "      <td>2353</td>\n",
       "      <td>0</td>\n",
       "      <td>0</td>\n",
       "    </tr>\n",
       "    <tr>\n",
       "      <th>808.0</th>\n",
       "      <td>0</td>\n",
       "      <td>0</td>\n",
       "      <td>0</td>\n",
       "      <td>0</td>\n",
       "      <td>0</td>\n",
       "      <td>4200</td>\n",
       "      <td>140</td>\n",
       "      <td>0</td>\n",
       "      <td>0</td>\n",
       "    </tr>\n",
       "    <tr>\n",
       "      <th>1407.0</th>\n",
       "      <td>2659</td>\n",
       "      <td>0</td>\n",
       "      <td>0</td>\n",
       "      <td>0</td>\n",
       "      <td>0</td>\n",
       "      <td>0</td>\n",
       "      <td>177</td>\n",
       "      <td>0</td>\n",
       "      <td>0</td>\n",
       "    </tr>\n",
       "    <tr>\n",
       "      <th>1508.0</th>\n",
       "      <td>4961</td>\n",
       "      <td>0</td>\n",
       "      <td>0</td>\n",
       "      <td>0</td>\n",
       "      <td>0</td>\n",
       "      <td>0</td>\n",
       "      <td>0</td>\n",
       "      <td>0</td>\n",
       "      <td>0</td>\n",
       "    </tr>\n",
       "    <tr>\n",
       "      <th>3004.0</th>\n",
       "      <td>0</td>\n",
       "      <td>1074</td>\n",
       "      <td>109</td>\n",
       "      <td>0</td>\n",
       "      <td>587</td>\n",
       "      <td>0</td>\n",
       "      <td>0</td>\n",
       "      <td>0</td>\n",
       "      <td>486</td>\n",
       "    </tr>\n",
       "    <tr>\n",
       "      <th>3555.0</th>\n",
       "      <td>0</td>\n",
       "      <td>0</td>\n",
       "      <td>2056</td>\n",
       "      <td>0</td>\n",
       "      <td>0</td>\n",
       "      <td>0</td>\n",
       "      <td>0</td>\n",
       "      <td>0</td>\n",
       "      <td>0</td>\n",
       "    </tr>\n",
       "    <tr>\n",
       "      <th>3600.0</th>\n",
       "      <td>0</td>\n",
       "      <td>0</td>\n",
       "      <td>2455</td>\n",
       "      <td>0</td>\n",
       "      <td>0</td>\n",
       "      <td>0</td>\n",
       "      <td>0</td>\n",
       "      <td>0</td>\n",
       "      <td>0</td>\n",
       "    </tr>\n",
       "    <tr>\n",
       "      <th>3601.0</th>\n",
       "      <td>0</td>\n",
       "      <td>37</td>\n",
       "      <td>261</td>\n",
       "      <td>0</td>\n",
       "      <td>0</td>\n",
       "      <td>0</td>\n",
       "      <td>0</td>\n",
       "      <td>0</td>\n",
       "      <td>2034</td>\n",
       "    </tr>\n",
       "    <tr>\n",
       "      <th>4606.0</th>\n",
       "      <td>0</td>\n",
       "      <td>2721</td>\n",
       "      <td>0</td>\n",
       "      <td>0</td>\n",
       "      <td>0</td>\n",
       "      <td>0</td>\n",
       "      <td>0</td>\n",
       "      <td>0</td>\n",
       "      <td>2</td>\n",
       "    </tr>\n",
       "    <tr>\n",
       "      <th>5501.0</th>\n",
       "      <td>0</td>\n",
       "      <td>0</td>\n",
       "      <td>0</td>\n",
       "      <td>0</td>\n",
       "      <td>0</td>\n",
       "      <td>0</td>\n",
       "      <td>0</td>\n",
       "      <td>2</td>\n",
       "      <td>7799</td>\n",
       "    </tr>\n",
       "    <tr>\n",
       "      <th>9546.0</th>\n",
       "      <td>0</td>\n",
       "      <td>2997</td>\n",
       "      <td>0</td>\n",
       "      <td>0</td>\n",
       "      <td>0</td>\n",
       "      <td>0</td>\n",
       "      <td>0</td>\n",
       "      <td>0</td>\n",
       "      <td>0</td>\n",
       "    </tr>\n",
       "  </tbody>\n",
       "</table>\n",
       "</div>"
      ],
      "text/plain": [
       "DepartmentDescription  DAIRY  DSD GROCERY  GROCERY DRY GOODS  \\\n",
       "FinelineNumber                                                 \n",
       "100.0                      0            0                 95   \n",
       "110.0                      0            0                  0   \n",
       "115.0                      0            0                  0   \n",
       "135.0                      0            0                  0   \n",
       "203.0                      0            0                  0   \n",
       "808.0                      0            0                  0   \n",
       "1407.0                  2659            0                  0   \n",
       "1508.0                  4961            0                  0   \n",
       "3004.0                     0         1074                109   \n",
       "3555.0                     0            0               2056   \n",
       "3600.0                     0            0               2455   \n",
       "3601.0                     0           37                261   \n",
       "4606.0                     0         2721                  0   \n",
       "5501.0                     0            0                  0   \n",
       "9546.0                     0         2997                  0   \n",
       "\n",
       "DepartmentDescription  HOUSEHOLD CHEMICALS/SUPP  HOUSEHOLD PAPER GOODS  \\\n",
       "FinelineNumber                                                           \n",
       "100.0                                         0                      0   \n",
       "110.0                                       536                    770   \n",
       "115.0                                        10                      0   \n",
       "135.0                                         0                      0   \n",
       "203.0                                         0                     69   \n",
       "808.0                                         0                      0   \n",
       "1407.0                                        0                      0   \n",
       "1508.0                                        0                      0   \n",
       "3004.0                                        0                    587   \n",
       "3555.0                                        0                      0   \n",
       "3600.0                                        0                      0   \n",
       "3601.0                                        0                      0   \n",
       "4606.0                                        0                      0   \n",
       "5501.0                                        0                      0   \n",
       "9546.0                                        0                      0   \n",
       "\n",
       "DepartmentDescription  IMPULSE MERCHANDISE  PERSONAL CARE  PHARMACY OTC  \\\n",
       "FinelineNumber                                                            \n",
       "100.0                                 2354              0             0   \n",
       "110.0                                  773              0             0   \n",
       "115.0                                 2576              0             0   \n",
       "135.0                                 4417             26             0   \n",
       "203.0                                    0           2353             0   \n",
       "808.0                                 4200            140             0   \n",
       "1407.0                                   0            177             0   \n",
       "1508.0                                   0              0             0   \n",
       "3004.0                                   0              0             0   \n",
       "3555.0                                   0              0             0   \n",
       "3600.0                                   0              0             0   \n",
       "3601.0                                   0              0             0   \n",
       "4606.0                                   0              0             0   \n",
       "5501.0                                   0              0             2   \n",
       "9546.0                                   0              0             0   \n",
       "\n",
       "DepartmentDescription  PRODUCE  \n",
       "FinelineNumber                  \n",
       "100.0                       69  \n",
       "110.0                        0  \n",
       "115.0                        0  \n",
       "135.0                        0  \n",
       "203.0                        0  \n",
       "808.0                        0  \n",
       "1407.0                       0  \n",
       "1508.0                       0  \n",
       "3004.0                     486  \n",
       "3555.0                       0  \n",
       "3600.0                       0  \n",
       "3601.0                    2034  \n",
       "4606.0                       2  \n",
       "5501.0                    7799  \n",
       "9546.0                       0  "
      ]
     },
     "execution_count": 40,
     "metadata": {},
     "output_type": "execute_result"
    }
   ],
   "source": [
    "# Build a crosstab between DepartmentDescription and FinelineNumber,\n",
    "# for most popular DepartmentDescription (total ScanCount > 20_000)\n",
    "# and most popular FinelineNumber (total ScanCount > 2000)\n",
    "\n",
    "\n",
    "popular_dd = train.groupby('DepartmentDescription').ScanCount.sum().sort_values(ascending=False)[:10].index\n",
    "sub = train[train.DepartmentDescription.isin(popular_dd)]\n",
    "sub = sub[sub.FinelineNumber.isin(sub.FinelineNumber.value_counts().iloc[:15].index)]\n",
    "\n",
    "tab = pd.crosstab(sub.FinelineNumber, sub.DepartmentDescription)\n",
    "tab"
   ]
  },
  {
   "cell_type": "code",
   "execution_count": null,
   "metadata": {},
   "outputs": [],
   "source": []
  },
  {
   "cell_type": "markdown",
   "metadata": {},
   "source": [
    "### 3.5 Upc"
   ]
  },
  {
   "cell_type": "code",
   "execution_count": 41,
   "metadata": {},
   "outputs": [
    {
     "data": {
      "text/plain": [
       "4.011000e+03    7657\n",
       "6.053886e+10    2501\n",
       "7.874235e+09    2067\n",
       "7.874235e+09    1883\n",
       "4.046000e+03    1652\n",
       "                ... \n",
       "8.874118e+10       1\n",
       "8.363210e+10       1\n",
       "2.800045e+09       1\n",
       "3.916612e+09       1\n",
       "2.899522e+09       1\n",
       "Name: Upc, Length: 97714, dtype: int64"
      ]
     },
     "execution_count": 41,
     "metadata": {},
     "output_type": "execute_result"
    }
   ],
   "source": [
    "train.Upc.value_counts()"
   ]
  },
  {
   "cell_type": "code",
   "execution_count": null,
   "metadata": {},
   "outputs": [],
   "source": []
  },
  {
   "cell_type": "markdown",
   "metadata": {},
   "source": [
    "## Conclusions on EDA\n",
    "\n",
    " - Visits are mostly consist of small number of products\n",
    " - Large visits are on weekends\n",
    " - `TripType` depends on `DepartmentDescription` and `FinelineNumber`\n",
    " - `Upc` is something like a bar code, could be usefull but contains almost 100k unique values\n",
    " "
   ]
  },
  {
   "cell_type": "markdown",
   "metadata": {},
   "source": [
    "# 4. Generate features"
   ]
  },
  {
   "cell_type": "code",
   "execution_count": 42,
   "metadata": {},
   "outputs": [],
   "source": [
    "train = pd.read_csv('train.csv')\n",
    "# test = pd.read_csv('walmart-recruiting-trip-type-classification/test.csv')"
   ]
  },
  {
   "cell_type": "code",
   "execution_count": 43,
   "metadata": {},
   "outputs": [],
   "source": [
    "def return_nth(x, n=0):\n",
    "    try:\n",
    "        return x[n]\n",
    "    except:\n",
    "        return np.nan\n",
    "    \n",
    "def return_nth_val(x, n=0):\n",
    "    try:\n",
    "        return x[n]\n",
    "    except:\n",
    "        return 0\n",
    "    \n",
    "def is_weekend(x):\n",
    "    return int(x in ['Sunday', 'Saturday'])\n",
    "\n",
    "def has_return(x):\n",
    "    return int(any(_x < 0 for _x in x))\n",
    "\n",
    "def sum_return(x):\n",
    "    return np.sum([_x for _x in x if _x < 0])"
   ]
  },
  {
   "cell_type": "code",
   "execution_count": 44,
   "metadata": {},
   "outputs": [],
   "source": [
    "df = train.copy()"
   ]
  },
  {
   "cell_type": "code",
   "execution_count": 45,
   "metadata": {},
   "outputs": [],
   "source": [
    "def generate_features(df):\n",
    "    \n",
    "    df = df.copy()\n",
    "    \n",
    "    # 1. Most frequent DepartmentDescription in the purchase, second most frequent, third, fourth.\n",
    "    f = lambda grp: grp.value_counts().nlargest(6)\n",
    "    x = df.groupby('VisitNumber')['DepartmentDescription'].apply(f).reset_index()\n",
    "    gp = x.groupby('VisitNumber')['level_1'].unique()\n",
    "\n",
    "    df['PopularCategory'] = df.VisitNumber.map(gp)\n",
    "    for i in range(4):\n",
    "        df[f'Category_{i}'] = df['PopularCategory'].apply(return_nth, args=[i])\n",
    "\n",
    "    # 2. Same for FinelineNumber, but 6\n",
    "    x = df.groupby('VisitNumber')['FinelineNumber'].apply(f).reset_index()\n",
    "    gp = x.groupby('VisitNumber')['level_1'].unique()\n",
    "\n",
    "    df['PopularFineline'] = df.VisitNumber.map(gp)\n",
    "    for i in range(6):\n",
    "        df[f'Fineline_{i}'] = df['PopularFineline'].apply(return_nth, args=[i]).astype(object)\n",
    "\n",
    "    # 3. Count number of unique DepartmentDescription in the purchase\n",
    "    gp = df.groupby('VisitNumber')['DepartmentDescription'].nunique()\n",
    "    df['#Unique_Department'] = df.VisitNumber.map(gp)\n",
    "\n",
    "    # 4. Count number of unique FinelineNumber in the purchase.\n",
    "    gp = df.groupby('VisitNumber')['FinelineNumber'].nunique()\n",
    "    df['#Unique_Fineline'] = df.VisitNumber.map(gp)\n",
    "\n",
    "    # 5. Count ScanCount (number of unique Upc in the purchase)\n",
    "\n",
    "    gp = df.groupby('VisitNumber')['ScanCount'].count()\n",
    "    df['#UniqueScanCount'] = df['VisitNumber'].map(gp)   \n",
    "\n",
    "    # 6. Sum ScanCount\n",
    "\n",
    "    gp = df.groupby('VisitNumber')['ScanCount'].sum()\n",
    "    df['TotalScanCount'] = df['VisitNumber'].map(gp)\n",
    "\n",
    "    # 7. Is weekend\n",
    "\n",
    "    df['is_Weekend'] = df['Weekday'].apply(is_weekend).astype(object)\n",
    "\n",
    "    # 8. Sum returns\n",
    "\n",
    "    gp = df.groupby('VisitNumber')['ScanCount'].apply(sum_return)\n",
    "    df['total_return'] = df.VisitNumber.map(gp)\n",
    "    df['total_return'].fillna(0, inplace=True)\n",
    "\n",
    "    # Drop old and intermediate features\n",
    "\n",
    "    df = df.drop(['Upc', 'ScanCount', 'DepartmentDescription',\n",
    "                  'FinelineNumber', 'PopularFineline', 'PopularCategory'], axis=1)\n",
    "\n",
    "    # Drop duplicated rows (with the same VisitNumber)\n",
    "\n",
    "    df = df.drop_duplicates(keep='first')\n",
    "    \n",
    "    return df"
   ]
  },
  {
   "cell_type": "code",
   "execution_count": 46,
   "metadata": {},
   "outputs": [],
   "source": [
    "# Running this cell takes about 10 minutes\n",
    "df = generate_features(df)"
   ]
  },
  {
   "cell_type": "markdown",
   "metadata": {},
   "source": [
    "# 5. Train a model"
   ]
  },
  {
   "cell_type": "code",
   "execution_count": 47,
   "metadata": {},
   "outputs": [],
   "source": [
    "# !pip install catboost"
   ]
  },
  {
   "cell_type": "code",
   "execution_count": 48,
   "metadata": {},
   "outputs": [],
   "source": [
    "from catboost import CatBoostClassifier, Pool"
   ]
  },
  {
   "cell_type": "code",
   "execution_count": 49,
   "metadata": {},
   "outputs": [
    {
     "name": "stdout",
     "output_type": "stream",
     "text": [
      "-2 TripType int64\n",
      "-1 VisitNumber int64\n",
      "0 Weekday object\n",
      "1 Category_0 object\n",
      "2 Category_1 object\n",
      "3 Category_2 object\n",
      "4 Category_3 object\n",
      "5 Fineline_0 object\n",
      "6 Fineline_1 object\n",
      "7 Fineline_2 object\n",
      "8 Fineline_3 object\n",
      "9 Fineline_4 object\n",
      "10 Fineline_5 object\n",
      "11 #Unique_Department int64\n",
      "12 #Unique_Fineline int64\n",
      "13 #UniqueScanCount int64\n",
      "14 TotalScanCount int64\n",
      "15 is_Weekend object\n",
      "16 total_return float64\n"
     ]
    }
   ],
   "source": [
    "for i, col in enumerate(df.columns):\n",
    "    print(i-2, col, df[col].dtype)"
   ]
  },
  {
   "cell_type": "code",
   "execution_count": 50,
   "metadata": {},
   "outputs": [],
   "source": [
    "for col in df.columns:\n",
    "    if col.startswith('Category'):\n",
    "        df[col]=df[col].apply(str)\n",
    "    if col.startswith('Fineline'):\n",
    "        df[col]=df[col].apply(str)"
   ]
  },
  {
   "cell_type": "code",
   "execution_count": 51,
   "metadata": {},
   "outputs": [],
   "source": [
    "train.fillna('NaN', inplace=True)\n",
    "x_train, x_eval = train_test_split(df, test_size=0.1, random_state=10, shuffle=True)\n",
    "\n",
    "cat_features = [*list(range(10)), 15]\n",
    "\n",
    "data_train = Pool(x_train.drop(['TripType', 'VisitNumber'], axis=1), \n",
    "                  label=x_train.TripType,\n",
    "                  cat_features=cat_features)\n",
    "\n",
    "data_eval = Pool(x_eval.drop(['TripType', 'VisitNumber'], axis=1), \n",
    "                 label=x_eval.TripType,\n",
    "                 cat_features=cat_features)"
   ]
  },
  {
   "cell_type": "code",
   "execution_count": 52,
   "metadata": {},
   "outputs": [],
   "source": [
    "ctb_params = {\n",
    "    'depth': 4,\n",
    "    'learning_rate': .3,\n",
    "    'l2_leaf_reg': 3,\n",
    "    'loss_function': 'MultiClass',\n",
    "    'verbose': 1,\n",
    "    'thread_count': 12,\n",
    "    'iterations': 100\n",
    "}"
   ]
  },
  {
   "cell_type": "code",
   "execution_count": 53,
   "metadata": {},
   "outputs": [
    {
     "name": "stdout",
     "output_type": "stream",
     "text": [
      "0:\tlearn: 2.5054008\ttest: 2.5055193\tbest: 2.5055193 (0)\ttotal: 3.83s\tremaining: 6m 19s\n",
      "1:\tlearn: 2.1710096\ttest: 2.1674314\tbest: 2.1674314 (1)\ttotal: 7.5s\tremaining: 6m 7s\n",
      "2:\tlearn: 1.9800685\ttest: 1.9673040\tbest: 1.9673040 (2)\ttotal: 11.2s\tremaining: 6m 3s\n",
      "3:\tlearn: 1.9124552\ttest: 1.9081217\tbest: 1.9081217 (3)\ttotal: 15.2s\tremaining: 6m 4s\n",
      "4:\tlearn: 1.8221832\ttest: 1.8152814\tbest: 1.8152814 (4)\ttotal: 19.1s\tremaining: 6m 3s\n",
      "5:\tlearn: 1.7373269\ttest: 1.7270806\tbest: 1.7270806 (5)\ttotal: 23.3s\tremaining: 6m 5s\n",
      "6:\tlearn: 1.6985587\ttest: 1.6874236\tbest: 1.6874236 (6)\ttotal: 26.9s\tremaining: 5m 56s\n",
      "7:\tlearn: 1.6535540\ttest: 1.6445961\tbest: 1.6445961 (7)\ttotal: 30.9s\tremaining: 5m 54s\n",
      "8:\tlearn: 1.6116905\ttest: 1.6016003\tbest: 1.6016003 (8)\ttotal: 35s\tremaining: 5m 53s\n",
      "9:\tlearn: 1.5881047\ttest: 1.5737224\tbest: 1.5737224 (9)\ttotal: 39.1s\tremaining: 5m 51s\n",
      "10:\tlearn: 1.5589367\ttest: 1.5466454\tbest: 1.5466454 (10)\ttotal: 42.7s\tremaining: 5m 45s\n",
      "11:\tlearn: 1.5286680\ttest: 1.5127173\tbest: 1.5127173 (11)\ttotal: 46.5s\tremaining: 5m 40s\n",
      "12:\tlearn: 1.4997988\ttest: 1.4830725\tbest: 1.4830725 (12)\ttotal: 50.2s\tremaining: 5m 35s\n",
      "13:\tlearn: 1.4541456\ttest: 1.4337802\tbest: 1.4337802 (13)\ttotal: 53.9s\tremaining: 5m 31s\n",
      "14:\tlearn: 1.4077576\ttest: 1.3833008\tbest: 1.3833008 (14)\ttotal: 57.9s\tremaining: 5m 28s\n",
      "15:\tlearn: 1.3930532\ttest: 1.3702274\tbest: 1.3702274 (15)\ttotal: 1m 1s\tremaining: 5m 25s\n",
      "16:\tlearn: 1.3755123\ttest: 1.3516576\tbest: 1.3516576 (16)\ttotal: 1m 5s\tremaining: 5m 20s\n",
      "17:\tlearn: 1.3535443\ttest: 1.3318649\tbest: 1.3318649 (17)\ttotal: 1m 9s\tremaining: 5m 14s\n",
      "18:\tlearn: 1.3361045\ttest: 1.3178940\tbest: 1.3178940 (18)\ttotal: 1m 12s\tremaining: 5m 9s\n",
      "19:\tlearn: 1.3215496\ttest: 1.3042949\tbest: 1.3042949 (19)\ttotal: 1m 16s\tremaining: 5m 5s\n",
      "20:\tlearn: 1.3131021\ttest: 1.2975518\tbest: 1.2975518 (20)\ttotal: 1m 19s\tremaining: 5m\n",
      "21:\tlearn: 1.2980018\ttest: 1.2823550\tbest: 1.2823550 (21)\ttotal: 1m 23s\tremaining: 4m 54s\n",
      "22:\tlearn: 1.2841111\ttest: 1.2708019\tbest: 1.2708019 (22)\ttotal: 1m 26s\tremaining: 4m 50s\n",
      "23:\tlearn: 1.2754262\ttest: 1.2621362\tbest: 1.2621362 (23)\ttotal: 1m 30s\tremaining: 4m 46s\n",
      "24:\tlearn: 1.2669317\ttest: 1.2552414\tbest: 1.2552414 (24)\ttotal: 1m 34s\tremaining: 4m 42s\n",
      "25:\tlearn: 1.2573671\ttest: 1.2456376\tbest: 1.2456376 (25)\ttotal: 1m 38s\tremaining: 4m 39s\n",
      "26:\tlearn: 1.2466167\ttest: 1.2349343\tbest: 1.2349343 (26)\ttotal: 1m 41s\tremaining: 4m 35s\n",
      "27:\tlearn: 1.2405532\ttest: 1.2293330\tbest: 1.2293330 (27)\ttotal: 1m 45s\tremaining: 4m 31s\n",
      "28:\tlearn: 1.2324591\ttest: 1.2220141\tbest: 1.2220141 (28)\ttotal: 1m 49s\tremaining: 4m 27s\n",
      "29:\tlearn: 1.2271963\ttest: 1.2170769\tbest: 1.2170769 (29)\ttotal: 1m 52s\tremaining: 4m 23s\n",
      "30:\tlearn: 1.2199652\ttest: 1.2099722\tbest: 1.2099722 (30)\ttotal: 1m 56s\tremaining: 4m 19s\n",
      "31:\tlearn: 1.2165460\ttest: 1.2068956\tbest: 1.2068956 (31)\ttotal: 2m\tremaining: 4m 15s\n",
      "32:\tlearn: 1.2114046\ttest: 1.2028173\tbest: 1.2028173 (32)\ttotal: 2m 4s\tremaining: 4m 11s\n",
      "33:\tlearn: 1.2029840\ttest: 1.1939494\tbest: 1.1939494 (33)\ttotal: 2m 8s\tremaining: 4m 8s\n",
      "34:\tlearn: 1.1965649\ttest: 1.1873678\tbest: 1.1873678 (34)\ttotal: 2m 11s\tremaining: 4m 4s\n",
      "35:\tlearn: 1.1896037\ttest: 1.1801964\tbest: 1.1801964 (35)\ttotal: 2m 15s\tremaining: 4m\n",
      "36:\tlearn: 1.1857964\ttest: 1.1768984\tbest: 1.1768984 (36)\ttotal: 2m 19s\tremaining: 3m 56s\n",
      "37:\tlearn: 1.1780066\ttest: 1.1688251\tbest: 1.1688251 (37)\ttotal: 2m 22s\tremaining: 3m 52s\n",
      "38:\tlearn: 1.1735881\ttest: 1.1656328\tbest: 1.1656328 (38)\ttotal: 2m 26s\tremaining: 3m 49s\n",
      "39:\tlearn: 1.1679348\ttest: 1.1599923\tbest: 1.1599923 (39)\ttotal: 2m 30s\tremaining: 3m 46s\n",
      "40:\tlearn: 1.1634398\ttest: 1.1552459\tbest: 1.1552459 (40)\ttotal: 2m 34s\tremaining: 3m 42s\n",
      "41:\tlearn: 1.1589023\ttest: 1.1506557\tbest: 1.1506557 (41)\ttotal: 2m 38s\tremaining: 3m 39s\n",
      "42:\tlearn: 1.1557712\ttest: 1.1481536\tbest: 1.1481536 (42)\ttotal: 2m 42s\tremaining: 3m 35s\n",
      "43:\tlearn: 1.1530883\ttest: 1.1454203\tbest: 1.1454203 (43)\ttotal: 2m 46s\tremaining: 3m 31s\n",
      "44:\tlearn: 1.1461252\ttest: 1.1387605\tbest: 1.1387605 (44)\ttotal: 2m 50s\tremaining: 3m 27s\n",
      "45:\tlearn: 1.1415210\ttest: 1.1350686\tbest: 1.1350686 (45)\ttotal: 2m 53s\tremaining: 3m 23s\n",
      "46:\tlearn: 1.1359675\ttest: 1.1295521\tbest: 1.1295521 (46)\ttotal: 2m 57s\tremaining: 3m 20s\n",
      "47:\tlearn: 1.1296699\ttest: 1.1243565\tbest: 1.1243565 (47)\ttotal: 3m 1s\tremaining: 3m 16s\n",
      "48:\tlearn: 1.1262537\ttest: 1.1212815\tbest: 1.1212815 (48)\ttotal: 3m 5s\tremaining: 3m 12s\n",
      "49:\tlearn: 1.1184489\ttest: 1.1136452\tbest: 1.1136452 (49)\ttotal: 3m 8s\tremaining: 3m 8s\n",
      "50:\tlearn: 1.1112056\ttest: 1.1066563\tbest: 1.1066563 (50)\ttotal: 3m 12s\tremaining: 3m 4s\n",
      "51:\tlearn: 1.1071124\ttest: 1.1032645\tbest: 1.1032645 (51)\ttotal: 3m 15s\tremaining: 3m\n",
      "52:\tlearn: 1.1039962\ttest: 1.1000579\tbest: 1.1000579 (52)\ttotal: 3m 19s\tremaining: 2m 56s\n",
      "53:\tlearn: 1.1005050\ttest: 1.0965908\tbest: 1.0965908 (53)\ttotal: 3m 23s\tremaining: 2m 53s\n",
      "54:\tlearn: 1.0970670\ttest: 1.0933755\tbest: 1.0933755 (54)\ttotal: 3m 26s\tremaining: 2m 49s\n",
      "55:\tlearn: 1.0957623\ttest: 1.0922752\tbest: 1.0922752 (55)\ttotal: 3m 30s\tremaining: 2m 45s\n",
      "56:\tlearn: 1.0882314\ttest: 1.0852762\tbest: 1.0852762 (56)\ttotal: 3m 34s\tremaining: 2m 41s\n",
      "57:\tlearn: 1.0857589\ttest: 1.0831077\tbest: 1.0831077 (57)\ttotal: 3m 37s\tremaining: 2m 37s\n",
      "58:\tlearn: 1.0825679\ttest: 1.0800988\tbest: 1.0800988 (58)\ttotal: 3m 41s\tremaining: 2m 34s\n",
      "59:\tlearn: 1.0807989\ttest: 1.0780717\tbest: 1.0780717 (59)\ttotal: 3m 45s\tremaining: 2m 30s\n",
      "60:\tlearn: 1.0780033\ttest: 1.0764220\tbest: 1.0764220 (60)\ttotal: 3m 48s\tremaining: 2m 26s\n",
      "61:\tlearn: 1.0738418\ttest: 1.0746982\tbest: 1.0746982 (61)\ttotal: 3m 52s\tremaining: 2m 22s\n",
      "62:\tlearn: 1.0686157\ttest: 1.0710196\tbest: 1.0710196 (62)\ttotal: 3m 55s\tremaining: 2m 18s\n",
      "63:\tlearn: 1.0670974\ttest: 1.0700414\tbest: 1.0700414 (63)\ttotal: 3m 59s\tremaining: 2m 14s\n",
      "64:\tlearn: 1.0650537\ttest: 1.0679708\tbest: 1.0679708 (64)\ttotal: 4m 3s\tremaining: 2m 10s\n",
      "65:\tlearn: 1.0630396\ttest: 1.0654457\tbest: 1.0654457 (65)\ttotal: 4m 6s\tremaining: 2m 7s\n",
      "66:\tlearn: 1.0610660\ttest: 1.0642539\tbest: 1.0642539 (66)\ttotal: 4m 10s\tremaining: 2m 3s\n",
      "67:\tlearn: 1.0576566\ttest: 1.0614545\tbest: 1.0614545 (67)\ttotal: 4m 14s\tremaining: 1m 59s\n",
      "68:\tlearn: 1.0534078\ttest: 1.0578536\tbest: 1.0578536 (68)\ttotal: 4m 17s\tremaining: 1m 55s\n",
      "69:\tlearn: 1.0491621\ttest: 1.0556401\tbest: 1.0556401 (69)\ttotal: 4m 21s\tremaining: 1m 52s\n",
      "70:\tlearn: 1.0474383\ttest: 1.0542763\tbest: 1.0542763 (70)\ttotal: 4m 25s\tremaining: 1m 48s\n",
      "71:\tlearn: 1.0458586\ttest: 1.0534008\tbest: 1.0534008 (71)\ttotal: 4m 29s\tremaining: 1m 44s\n",
      "72:\tlearn: 1.0436347\ttest: 1.0513917\tbest: 1.0513917 (72)\ttotal: 4m 33s\tremaining: 1m 40s\n",
      "73:\tlearn: 1.0417713\ttest: 1.0499526\tbest: 1.0499526 (73)\ttotal: 4m 36s\tremaining: 1m 37s\n",
      "74:\tlearn: 1.0405223\ttest: 1.0488619\tbest: 1.0488619 (74)\ttotal: 4m 40s\tremaining: 1m 33s\n",
      "75:\tlearn: 1.0382257\ttest: 1.0468651\tbest: 1.0468651 (75)\ttotal: 4m 45s\tremaining: 1m 30s\n",
      "76:\tlearn: 1.0357858\ttest: 1.0448086\tbest: 1.0448086 (76)\ttotal: 4m 50s\tremaining: 1m 26s\n",
      "77:\tlearn: 1.0345442\ttest: 1.0434708\tbest: 1.0434708 (77)\ttotal: 4m 54s\tremaining: 1m 23s\n",
      "78:\tlearn: 1.0330491\ttest: 1.0420050\tbest: 1.0420050 (78)\ttotal: 4m 58s\tremaining: 1m 19s\n",
      "79:\tlearn: 1.0313791\ttest: 1.0410320\tbest: 1.0410320 (79)\ttotal: 5m 1s\tremaining: 1m 15s\n",
      "80:\tlearn: 1.0290005\ttest: 1.0387113\tbest: 1.0387113 (80)\ttotal: 5m 5s\tremaining: 1m 11s\n",
      "81:\tlearn: 1.0282953\ttest: 1.0380369\tbest: 1.0380369 (81)\ttotal: 5m 9s\tremaining: 1m 7s\n",
      "82:\tlearn: 1.0273600\ttest: 1.0378347\tbest: 1.0378347 (82)\ttotal: 5m 13s\tremaining: 1m 4s\n",
      "83:\tlearn: 1.0263022\ttest: 1.0366036\tbest: 1.0366036 (83)\ttotal: 5m 17s\tremaining: 1m\n",
      "84:\tlearn: 1.0231461\ttest: 1.0341830\tbest: 1.0341830 (84)\ttotal: 5m 21s\tremaining: 56.8s\n",
      "85:\tlearn: 1.0226813\ttest: 1.0339080\tbest: 1.0339080 (85)\ttotal: 5m 25s\tremaining: 53s\n",
      "86:\tlearn: 1.0207805\ttest: 1.0319318\tbest: 1.0319318 (86)\ttotal: 5m 28s\tremaining: 49.2s\n",
      "87:\tlearn: 1.0191664\ttest: 1.0299019\tbest: 1.0299019 (87)\ttotal: 5m 32s\tremaining: 45.3s\n",
      "88:\tlearn: 1.0176253\ttest: 1.0289628\tbest: 1.0289628 (88)\ttotal: 5m 35s\tremaining: 41.5s\n",
      "89:\tlearn: 1.0158852\ttest: 1.0275392\tbest: 1.0275392 (89)\ttotal: 5m 40s\tremaining: 37.8s\n",
      "90:\tlearn: 1.0145191\ttest: 1.0263214\tbest: 1.0263214 (90)\ttotal: 5m 44s\tremaining: 34s\n",
      "91:\tlearn: 1.0137204\ttest: 1.0259495\tbest: 1.0259495 (91)\ttotal: 5m 48s\tremaining: 30.3s\n",
      "92:\tlearn: 1.0124852\ttest: 1.0247571\tbest: 1.0247571 (92)\ttotal: 5m 52s\tremaining: 26.5s\n"
     ]
    },
    {
     "name": "stdout",
     "output_type": "stream",
     "text": [
      "93:\tlearn: 1.0108751\ttest: 1.0232895\tbest: 1.0232895 (93)\ttotal: 5m 56s\tremaining: 22.8s\n",
      "94:\tlearn: 1.0092849\ttest: 1.0220171\tbest: 1.0220171 (94)\ttotal: 6m\tremaining: 19s\n",
      "95:\tlearn: 1.0081704\ttest: 1.0212303\tbest: 1.0212303 (95)\ttotal: 6m 4s\tremaining: 15.2s\n",
      "96:\tlearn: 1.0074495\ttest: 1.0208261\tbest: 1.0208261 (96)\ttotal: 6m 9s\tremaining: 11.4s\n",
      "97:\tlearn: 1.0067927\ttest: 1.0203077\tbest: 1.0203077 (97)\ttotal: 6m 14s\tremaining: 7.64s\n",
      "98:\tlearn: 1.0038593\ttest: 1.0180214\tbest: 1.0180214 (98)\ttotal: 6m 19s\tremaining: 3.83s\n",
      "99:\tlearn: 1.0035691\ttest: 1.0177677\tbest: 1.0177677 (99)\ttotal: 6m 23s\tremaining: 0us\n",
      "\n",
      "bestTest = 1.017767665\n",
      "bestIteration = 99\n",
      "\n"
     ]
    },
    {
     "data": {
      "text/plain": [
       "<catboost.core.CatBoostClassifier at 0x7fc8c56bd990>"
      ]
     },
     "execution_count": 53,
     "metadata": {},
     "output_type": "execute_result"
    }
   ],
   "source": [
    "model = CatBoostClassifier(**ctb_params)\n",
    "model.fit(X = data_train, silent=False, eval_set=data_eval)"
   ]
  },
  {
   "cell_type": "code",
   "execution_count": 54,
   "metadata": {},
   "outputs": [],
   "source": [
    "# model.save_model('catboost_depth=4_lr=.3_l2=3')\n",
    "# model = CatBoostClassifier()"
   ]
  },
  {
   "cell_type": "code",
   "execution_count": null,
   "metadata": {},
   "outputs": [],
   "source": []
  },
  {
   "cell_type": "code",
   "execution_count": null,
   "metadata": {},
   "outputs": [],
   "source": []
  }
 ],
 "metadata": {
  "kernelspec": {
   "display_name": "Python 3 (ipykernel)",
   "language": "python",
   "name": "python3"
  },
  "language_info": {
   "codemirror_mode": {
    "name": "ipython",
    "version": 3
   },
   "file_extension": ".py",
   "mimetype": "text/x-python",
   "name": "python",
   "nbconvert_exporter": "python",
   "pygments_lexer": "ipython3",
   "version": "3.11.4"
  }
 },
 "nbformat": 4,
 "nbformat_minor": 4
}
